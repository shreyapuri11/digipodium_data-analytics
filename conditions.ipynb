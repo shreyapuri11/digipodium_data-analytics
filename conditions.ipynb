{
 "cells": [
  {
   "attachments": {},
   "cell_type": "markdown",
   "metadata": {},
   "source": [
    "True values\n",
    "- True\n",
    "- any non zero numbers\n",
    "- any non empty string\n",
    "- any non empty data structure\n",
    "\n",
    "False values\n",
    "- 0\n",
    "- False\n",
    "- empty string\n",
    "- empty data structure\n",
    "\n"
   ]
  },
  {
   "attachments": {},
   "cell_type": "markdown",
   "metadata": {},
   "source": [
    "Block of code\n",
    "'''\n",
    "keyword(expression):\n",
    "   statement 1\n",
    "   statement 2\n",
    "   .....\n",
    "   statement n\n",
    "   \n",
    "statement outside block\n",
    "'''\n",
    "4 spaces or 1 tab = indentation\n",
    "\n"
   ]
  },
  {
   "cell_type": "code",
   "execution_count": 5,
   "metadata": {},
   "outputs": [
    {
     "name": "stdout",
     "output_type": "stream",
     "text": [
      "X is bigger than 25\n"
     ]
    }
   ],
   "source": [
    "x = 30\n",
    "if(x > 25):\n",
    "    print(\"X is bigger than 25\")"
   ]
  },
  {
   "cell_type": "code",
   "execution_count": 8,
   "metadata": {},
   "outputs": [
    {
     "name": "stdout",
     "output_type": "stream",
     "text": [
      "x is bigger than 10\n"
     ]
    }
   ],
   "source": [
    "x = int(input(\"Enter the number: \"))\n",
    "if(x > 10):\n",
    "    print(\"x is bigger than 10\")\n",
    "if(x > 50):\n",
    "    print(\"x is bigger than 50\")\n",
    "if(x > 100):\n",
    "    print(\"X is bigger than 100\")\n",
    "if( x <= 10):\n",
    "    print(\"x is smaller than or equal to 10\")"
   ]
  },
  {
   "cell_type": "code",
   "execution_count": 10,
   "metadata": {},
   "outputs": [
    {
     "name": "stdout",
     "output_type": "stream",
     "text": [
      "x is bigger than 10\n"
     ]
    }
   ],
   "source": [
    "x = int(input(\"Enter the number: \"))\n",
    "if(x > 10):\n",
    "    print(\"x is bigger than 10\")\n",
    "if(x > 50):\n",
    "    print(\"x is bigger than 50\")\n",
    "if(x > 100):\n",
    "    print(\"X is bigger than 100\")\n",
    "if( x <= 10):\n",
    "    print(\"x is smaller than or equal to 10\")"
   ]
  },
  {
   "attachments": {},
   "cell_type": "markdown",
   "metadata": {},
   "source": [
    "Write a program to check a number is even or odd."
   ]
  },
  {
   "cell_type": "code",
   "execution_count": 12,
   "metadata": {},
   "outputs": [
    {
     "name": "stdout",
     "output_type": "stream",
     "text": [
      "32 is even number\n"
     ]
    }
   ],
   "source": [
    "num = int(input(\"Enter the number: \"))\n",
    "if(num % 2 == 0):\n",
    "    print(f'{num} is even number')\n",
    "else:\n",
    "    print(f'{num} is odd number')"
   ]
  },
  {
   "attachments": {},
   "cell_type": "markdown",
   "metadata": {},
   "source": [
    "Wap to check the number a is bigger or not out of three numbers."
   ]
  },
  {
   "cell_type": "code",
   "execution_count": 13,
   "metadata": {},
   "outputs": [
    {
     "name": "stdout",
     "output_type": "stream",
     "text": [
      "c = 30 is bigger than a and b\n"
     ]
    }
   ],
   "source": [
    "a= int(input(\"Enter the number1: \"))\n",
    "b= int(input(\"enter the number 2: \"))\n",
    "c = int(input(\"enter the number 3: \"))\n",
    "if a > b and a > c:\n",
    "    print(f'a = {a} is bigger than b and c')\n",
    "elif b > a and b > c:\n",
    "    print(f'b = {b} is bigger than a and c')\n",
    "else:\n",
    "    print(f'c = {c} is bigger than a and b')"
   ]
  },
  {
   "attachments": {},
   "cell_type": "markdown",
   "metadata": {},
   "source": [
    "WAP to check a username and password is valid or not"
   ]
  },
  {
   "cell_type": "code",
   "execution_count": 14,
   "metadata": {},
   "outputs": [
    {
     "name": "stdout",
     "output_type": "stream",
     "text": [
      "username and password are valid\n"
     ]
    }
   ],
   "source": [
    "username = input(\"enter your username: \")\n",
    "pwd = input(\"enter your password: \")\n",
    "if len(username) < 3:\n",
    "    print('❎ useranme must be at least 3 characters')\n",
    "elif len(pwd) < 8:\n",
    "    print('❎ password must be at least 8 characters')\n",
    "elif not username.isalpha():\n",
    "    print('❎ username must be alphabetic')\n",
    "else:\n",
    "    print('username and password are valid')"
   ]
  },
  {
   "attachments": {},
   "cell_type": "markdown",
   "metadata": {},
   "source": [
    "# Match-case (python 3.10)\n",
    " it's used for checking multiple conditions of a single variable\n",
    "\n",
    " '''\n",
    "  match variable:\n",
    "     case value1:\n",
    "       statements\n",
    "    case value2:\n",
    "       statements\n",
    "    case _:\n",
    "      statements\n",
    "'''"
   ]
  },
  {
   "cell_type": "code",
   "execution_count": 15,
   "metadata": {},
   "outputs": [
    {
     "name": "stdout",
     "output_type": "stream",
     "text": [
      "today is saturday\n"
     ]
    }
   ],
   "source": [
    "day = input(\"enter the day: \")\n",
    "match day:\n",
    "    case 'saturday':\n",
    "        print(\"today is saturday\")\n",
    "    case 'sunday':\n",
    "        print(\"today is sunday\")\n",
    "    case 'monday':\n",
    "        print(\"today is monday\")\n",
    "    case 'tuesday':\n",
    "        print(\"today is tuesday\")\n",
    "    case 'thursday':\n",
    "        print(\"today is thursday\")\n",
    "    case _:\n",
    "        print(\"invalid day\")\n"
   ]
  }
 ],
 "metadata": {
  "kernelspec": {
   "display_name": "base",
   "language": "python",
   "name": "python3"
  },
  "language_info": {
   "codemirror_mode": {
    "name": "ipython",
    "version": 3
   },
   "file_extension": ".py",
   "mimetype": "text/x-python",
   "name": "python",
   "nbconvert_exporter": "python",
   "pygments_lexer": "ipython3",
   "version": "3.10.10"
  },
  "orig_nbformat": 4
 },
 "nbformat": 4,
 "nbformat_minor": 2
}
