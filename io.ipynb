{
 "cells": [
  {
   "cell_type": "code",
   "execution_count": 6,
   "metadata": {},
   "outputs": [],
   "source": [
    "name = input(\"enter your name: \")\n",
    "city = input(\"enter the city: \")"
   ]
  },
  {
   "cell_type": "code",
   "execution_count": 7,
   "metadata": {},
   "outputs": [],
   "source": [
    "age = input(\"enter the age: \")"
   ]
  },
  {
   "cell_type": "code",
   "execution_count": 8,
   "metadata": {},
   "outputs": [
    {
     "data": {
      "text/plain": [
       "900"
      ]
     },
     "execution_count": 8,
     "metadata": {},
     "output_type": "execute_result"
    }
   ],
   "source": [
    "a = '900'\n",
    "int(a)"
   ]
  },
  {
   "cell_type": "code",
   "execution_count": 9,
   "metadata": {},
   "outputs": [
    {
     "name": "stdout",
     "output_type": "stream",
     "text": [
      "25600.0\n"
     ]
    }
   ],
   "source": [
    "p = int(input(\"enter the principal : \"))\n",
    "rate = int(input(\"enter the rate: \"))\n",
    "time = int(input(\"enter the time: \"))\n",
    "s_interest = (p*rate*time)/100\n",
    "print(s_interest)"
   ]
  },
  {
   "cell_type": "code",
   "execution_count": 11,
   "metadata": {},
   "outputs": [
    {
     "name": "stdout",
     "output_type": "stream",
     "text": [
      "101\n"
     ]
    }
   ],
   "source": [
    "x = int(input(\"Enter a number 1: \"))\n",
    "y = int(input(\"Eneter the number 2 : \"))\n",
    "add = x + y\n",
    "print(add)"
   ]
  },
  {
   "cell_type": "code",
   "execution_count": 12,
   "metadata": {},
   "outputs": [
    {
     "name": "stdout",
     "output_type": "stream",
     "text": [
      "our numbers 34 67\n"
     ]
    }
   ],
   "source": [
    "print(\"our numbers\",x,y)"
   ]
  },
  {
   "cell_type": "code",
   "execution_count": 13,
   "metadata": {},
   "outputs": [
    {
     "name": "stdout",
     "output_type": "stream",
     "text": [
      "34\n",
      "67\n",
      "duke\n",
      "89\n",
      "mumbai\n"
     ]
    }
   ],
   "source": [
    "print(x,y,name,age,city,sep=\"\\n\")"
   ]
  },
  {
   "cell_type": "code",
   "execution_count": 15,
   "metadata": {},
   "outputs": [
    {
     "name": "stdout",
     "output_type": "stream",
     "text": [
      "34 67 duke 89 mumbai\n"
     ]
    }
   ],
   "source": [
    "print(x,y,name,age,city)"
   ]
  },
  {
   "cell_type": "code",
   "execution_count": 17,
   "metadata": {},
   "outputs": [
    {
     "name": "stdout",
     "output_type": "stream",
     "text": [
      "hi there\n"
     ]
    }
   ],
   "source": [
    "print('hi', end=' ')\n",
    "print('there')"
   ]
  },
  {
   "attachments": {},
   "cell_type": "markdown",
   "metadata": {},
   "source": [
    "formattable string\n"
   ]
  },
  {
   "cell_type": "code",
   "execution_count": 18,
   "metadata": {},
   "outputs": [
    {
     "name": "stdout",
     "output_type": "stream",
     "text": [
      "adding 34 with 67 will give 101\n"
     ]
    }
   ],
   "source": [
    "print(f'adding {x} with {y} will give {x+y}')"
   ]
  },
  {
   "attachments": {},
   "cell_type": "markdown",
   "metadata": {},
   "source": [
    "f string floating value\n"
   ]
  },
  {
   "cell_type": "code",
   "execution_count": 20,
   "metadata": {},
   "outputs": [
    {
     "name": "stdout",
     "output_type": "stream",
     "text": [
      "10/3 = 3.33\n"
     ]
    }
   ],
   "source": [
    "a =10\n",
    "b=3\n",
    "print(f'{a}/{b} = {a/b:.2f}')"
   ]
  },
  {
   "attachments": {},
   "cell_type": "markdown",
   "metadata": {},
   "source": [
    "f string alignment\n"
   ]
  },
  {
   "cell_type": "code",
   "execution_count": 23,
   "metadata": {},
   "outputs": [
    {
     "name": "stdout",
     "output_type": "stream",
     "text": [
      "name = duke\n",
      "age = 89\n",
      "city = mumbai\n"
     ]
    }
   ],
   "source": [
    "print(f'name = {name}')\n",
    "print(f'age = {age}')\n",
    "print(f'city = {city}')\n",
    "\n"
   ]
  },
  {
   "cell_type": "code",
   "execution_count": 25,
   "metadata": {},
   "outputs": [
    {
     "name": "stdout",
     "output_type": "stream",
     "text": [
      "name  duke\n",
      "age   89\n",
      "city  mumbai\n"
     ]
    }
   ],
   "source": [
    "print(f'name  {name}')\n",
    "print(f'age   {age}')\n",
    "print(f'city  {city}')"
   ]
  },
  {
   "cell_type": "code",
   "execution_count": 27,
   "metadata": {},
   "outputs": [
    {
     "name": "stdout",
     "output_type": "stream",
     "text": [
      "name      duke\n",
      "age       89\n",
      "city      mumbai\n"
     ]
    }
   ],
   "source": [
    "print(f'{\"name\":10}{name}')\n",
    "print(f'{\"age\":10}{age}')\n",
    "print(f'{\"city\":10}{city}')"
   ]
  },
  {
   "cell_type": "code",
   "execution_count": 29,
   "metadata": {},
   "outputs": [
    {
     "name": "stdout",
     "output_type": "stream",
     "text": [
      "name                                     duke\n",
      "age                                        89\n",
      "city                                   mumbai\n"
     ]
    }
   ],
   "source": [
    "print(f'{\"name\":10}{name:>35}')\n",
    "print(f'{\"age\":10}{age:>35}')\n",
    "print(f'{\"city\":10}{city:>35}')"
   ]
  },
  {
   "cell_type": "code",
   "execution_count": 31,
   "metadata": {},
   "outputs": [
    {
     "name": "stdout",
     "output_type": "stream",
     "text": [
      "name                     duke                \n",
      "age                       89                 \n",
      "city                    mumbai               \n"
     ]
    }
   ],
   "source": [
    "print(f'{\"name\":10}{name:^35}')\n",
    "print(f'{\"age\":10}{age:^35}')\n",
    "print(f'{\"city\":10}{city:^35}')"
   ]
  },
  {
   "attachments": {},
   "cell_type": "markdown",
   "metadata": {},
   "source": [
    "write a program for pythgoras theorem"
   ]
  },
  {
   "cell_type": "code",
   "execution_count": 35,
   "metadata": {},
   "outputs": [
    {
     "name": "stdout",
     "output_type": "stream",
     "text": [
      "hypotenuse is 5.0\n"
     ]
    }
   ],
   "source": [
    "pe = int(input(\"Enter the perpendicular: \"))\n",
    "ba = int(input(\"enter the base: \"))\n",
    "hy = (pe**2 + ba**2)**0.5\n",
    "print(f'hypotenuse is {hy:.1f}')"
   ]
  },
  {
   "cell_type": "markdown",
   "metadata": {},
   "source": []
  },
  {
   "cell_type": "code",
   "execution_count": null,
   "metadata": {},
   "outputs": [],
   "source": []
  }
 ],
 "metadata": {
  "kernelspec": {
   "display_name": "base",
   "language": "python",
   "name": "python3"
  },
  "language_info": {
   "codemirror_mode": {
    "name": "ipython",
    "version": 3
   },
   "file_extension": ".py",
   "mimetype": "text/x-python",
   "name": "python",
   "nbconvert_exporter": "python",
   "pygments_lexer": "ipython3",
   "version": "3.10.10"
  },
  "orig_nbformat": 4
 },
 "nbformat": 4,
 "nbformat_minor": 2
}
