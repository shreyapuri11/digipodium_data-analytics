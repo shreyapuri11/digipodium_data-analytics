{
 "cells": [
  {
   "cell_type": "code",
   "execution_count": 4,
   "metadata": {},
   "outputs": [
    {
     "name": "stdout",
     "output_type": "stream",
     "text": [
      "Final list: [23, 45, 78, 90, 56]\n"
     ]
    }
   ],
   "source": [
    "my_list = []\n",
    "while True:\n",
    "    value = input(\"Enter an integer (or 'q' to quit): \")\n",
    "    if value.lower() == 'q':\n",
    "        break\n",
    "    my_list.append(int(value))\n",
    "print(\"Final list:\", my_list)\n"
   ]
  },
  {
   "cell_type": "code",
   "execution_count": 5,
   "metadata": {},
   "outputs": [
    {
     "name": "stdout",
     "output_type": "stream",
     "text": [
      "12 is present in the list.\n"
     ]
    }
   ],
   "source": [
    "lst = [23,6,78,9,56,12]\n",
    "num = int(input(\"enter the number to be searched: \"))\n",
    "if num in lst:\n",
    "    print(f'{num} is present in the list.')\n",
    "else:\n",
    "    print(f'{num} is not in the list')"
   ]
  },
  {
   "cell_type": "code",
   "execution_count": 6,
   "metadata": {},
   "outputs": [
    {
     "name": "stdout",
     "output_type": "stream",
     "text": [
      "list before sorting:  ['h', 'o', 'a', 'l', 'b']\n",
      "list after sorting:  ['a', 'b', 'h', 'l', 'o']\n"
     ]
    }
   ],
   "source": [
    "lst = ['h','o','a','l','b']\n",
    "print(\"list before sorting: \", lst)\n",
    "lst.sort()\n",
    "print(\"list after sorting: \", lst)"
   ]
  },
  {
   "cell_type": "code",
   "execution_count": 8,
   "metadata": {},
   "outputs": [
    {
     "name": "stdout",
     "output_type": "stream",
     "text": [
      "Maximum value in the list is 96\n"
     ]
    }
   ],
   "source": [
    "lst = [2,5,89,67,56,34,12,96]\n",
    "max = lst[0]\n",
    "for i in lst:\n",
    "    if (i > max):\n",
    "        max = i\n",
    "print(f'Maximum value in the list is {max}')"
   ]
  },
  {
   "cell_type": "code",
   "execution_count": null,
   "metadata": {},
   "outputs": [],
   "source": []
  }
 ],
 "metadata": {
  "kernelspec": {
   "display_name": "base",
   "language": "python",
   "name": "python3"
  },
  "language_info": {
   "codemirror_mode": {
    "name": "ipython",
    "version": 3
   },
   "file_extension": ".py",
   "mimetype": "text/x-python",
   "name": "python",
   "nbconvert_exporter": "python",
   "pygments_lexer": "ipython3",
   "version": "3.10.10"
  },
  "orig_nbformat": 4
 },
 "nbformat": 4,
 "nbformat_minor": 2
}
