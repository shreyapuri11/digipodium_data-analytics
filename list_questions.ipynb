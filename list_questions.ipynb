{
 "cells": [
  {
   "cell_type": "code",
   "execution_count": 4,
   "metadata": {},
   "outputs": [
    {
     "name": "stdout",
     "output_type": "stream",
     "text": [
      "Final list: [23, 45, 78, 90, 56]\n"
     ]
    }
   ],
   "source": [
    "my_list = [] #take the user input list of integers\n",
    "while True:\n",
    "    value = input(\"Enter an integer (or 'q' to quit): \")\n",
    "    if value.lower() == 'q':\n",
    "        break\n",
    "    my_list.append(int(value))\n",
    "print(\"Final list:\", my_list)\n"
   ]
  },
  {
   "cell_type": "code",
   "execution_count": 5,
   "metadata": {},
   "outputs": [
    {
     "name": "stdout",
     "output_type": "stream",
     "text": [
      "12 is present in the list.\n"
     ]
    }
   ],
   "source": [
    "lst = [23,6,78,9,56,12] #number to be searched from the list of integers\n",
    "num = int(input(\"enter the number to be searched: \"))\n",
    "if num in lst:\n",
    "    print(f'{num} is present in the list.')\n",
    "else:\n",
    "    print(f'{num} is not in the list')"
   ]
  },
  {
   "cell_type": "code",
   "execution_count": 6,
   "metadata": {},
   "outputs": [
    {
     "name": "stdout",
     "output_type": "stream",
     "text": [
      "list before sorting:  ['h', 'o', 'a', 'l', 'b']\n",
      "list after sorting:  ['a', 'b', 'h', 'l', 'o']\n"
     ]
    }
   ],
   "source": [
    "lst = ['h','o','a','l','b']\n",
    "print(\"list before sorting: \", lst)\n",
    "lst.sort() #sorting in list\n",
    "print(\"list after sorting: \", lst)"
   ]
  },
  {
   "cell_type": "code",
   "execution_count": 8,
   "metadata": {},
   "outputs": [
    {
     "name": "stdout",
     "output_type": "stream",
     "text": [
      "Maximum value in the list is 96\n"
     ]
    }
   ],
   "source": [
    "lst = [2,5,89,67,56,34,12,96]\n",
    "max = lst[0]\n",
    "for i in lst:\n",
    "    if (i > max): #maximum value\n",
    "        max = i\n",
    "print(f'Maximum value in the list is {max}')"
   ]
  },
  {
   "cell_type": "code",
   "execution_count": 2,
   "metadata": {},
   "outputs": [
    {
     "name": "stdout",
     "output_type": "stream",
     "text": [
      "8 9 "
     ]
    }
   ],
   "source": [
    "lst1 = [1,4,5,7,8,9,3] \n",
    "lst2 = [2,8,9,6]\n",
    "for i in lst1:\n",
    "    for j in lst2:\n",
    "        if(i == j): #common elements\n",
    "            print(i, end = ' ')\n"
   ]
  },
  {
   "cell_type": "code",
   "execution_count": 3,
   "metadata": {},
   "outputs": [
    {
     "name": "stdout",
     "output_type": "stream",
     "text": [
      "['apple', 'kiwi', 'grapefruit']\n"
     ]
    }
   ],
   "source": [
    "s = ['apple','banana','kiwi','grapefruit','orange'] #removed the dtrings from the list of strings that contain the substring\n",
    "substring = 'an'\n",
    "filtered_list = [string for string in s if substring not in string]\n",
    "print(filtered_list)\n",
    "\n"
   ]
  },
  {
   "cell_type": "code",
   "execution_count": 4,
   "metadata": {},
   "outputs": [
    {
     "name": "stdout",
     "output_type": "stream",
     "text": [
      "7 8 9 6 "
     ]
    }
   ],
   "source": [
    "lst = [1,2,3,4,[7,8,9,6]] #access the elements of the list\n",
    "for i in lst[4]:\n",
    "    print(i, end = ' ')"
   ]
  },
  {
   "cell_type": "code",
   "execution_count": 6,
   "metadata": {},
   "outputs": [
    {
     "name": "stdout",
     "output_type": "stream",
     "text": [
      "[1, 3, 4, 2, 6, 7, 8]\n"
     ]
    }
   ],
   "source": [
    "lst = [1,3,4,1,2,3,6,4,7,8] #removed the duplicate values from the list\n",
    "final_lst = []\n",
    "for i in lst:\n",
    "    if i not in final_lst:\n",
    "        final_lst.append(i)\n",
    "print(final_lst)"
   ]
  },
  {
   "cell_type": "code",
   "execution_count": 8,
   "metadata": {},
   "outputs": [
    {
     "name": "stdout",
     "output_type": "stream",
     "text": [
      "Longest string: mercedes\n"
     ]
    }
   ],
   "source": [
    "cars = ['honda','scorpio','thar','mercedes','suv'] #print the longest string in the given list of strings\n",
    "longest_string =\"\"\n",
    "for string in cars:\n",
    "    if len(string)> len(longest_string):\n",
    "        longest_string = string\n",
    "print(\"Longest string:\", longest_string)"
   ]
  },
  {
   "cell_type": "code",
   "execution_count": 9,
   "metadata": {},
   "outputs": [
    {
     "name": "stdout",
     "output_type": "stream",
     "text": [
      "sum of the even numbers in the list: 70\n"
     ]
    }
   ],
   "source": [
    "lst = [2,5,6,7,8,3,9,10,32,12,23] #sum of all the even numbers in the list\n",
    "even_sum = 0\n",
    "for i in lst:\n",
    "    if i%2 == 0:\n",
    "        even_sum += i\n",
    "print(\"sum of the even numbers in the list:\", even_sum)"
   ]
  },
  {
   "cell_type": "code",
   "execution_count": 12,
   "metadata": {},
   "outputs": [
    {
     "name": "stdout",
     "output_type": "stream",
     "text": [
      "Removed element is: 8\n"
     ]
    }
   ],
   "source": [
    "my_list = [2,3,4,5,6,7,8,9] #removed the element from the list position is given by the user \n",
    "pos = int(input(\"Enter a position of the element to be removed:  \"))\n",
    "if pos<0 or pos>=len(my_list):\n",
    "    print(\"enter the valid position\")\n",
    "else:\n",
    "    removed_element = my_list.pop(pos)\n",
    "    print(\"Removed element is:\", removed_element)"
   ]
  },
  {
   "cell_type": "code",
   "execution_count": 16,
   "metadata": {},
   "outputs": [
    {
     "name": "stdout",
     "output_type": "stream",
     "text": [
      "hello this is my first program\n"
     ]
    }
   ],
   "source": [
    "lst = ['hello','this','is','my','first','program'] #concatentes all the string into a single string\n",
    "str = ' '.join(lst)\n",
    "print(str)"
   ]
  },
  {
   "cell_type": "code",
   "execution_count": 21,
   "metadata": {},
   "outputs": [
    {
     "name": "stdout",
     "output_type": "stream",
     "text": [
      "Median Value:  5.5\n"
     ]
    }
   ],
   "source": [
    "#median value of the list of integers\n",
    "lst = [2,3,4,1,7,8,12,23]\n",
    "lst.sort()\n",
    "l = len(lst)\n",
    "if l%2 == 0:\n",
    "    med_value = (lst[l // 2 - 1] + lst[l // 2]) / 2\n",
    "    print(\"Median Value: \", med_value)\n",
    "else:\n",
    "    med_value = lst[l // 2]\n",
    "    print(\"Median value: \", med_value)"
   ]
  },
  {
   "cell_type": "code",
   "execution_count": 22,
   "metadata": {},
   "outputs": [
    {
     "name": "stdout",
     "output_type": "stream",
     "text": [
      "Reversed list is:  ['olleh', 'ym', 'eman', 'si', 'ekud']\n"
     ]
    }
   ],
   "source": [
    "lst =['hello','my','name','is','duke'] 3\n",
    "reversed_lst = []\n",
    "for string in lst:\n",
    "    str = string[::-1]\n",
    "    reversed_lst.append(str)\n",
    "print(\"Reversed list is: \", reversed_lst)"
   ]
  },
  {
   "cell_type": "code",
   "execution_count": null,
   "metadata": {},
   "outputs": [],
   "source": []
  }
 ],
 "metadata": {
  "kernelspec": {
   "display_name": "base",
   "language": "python",
   "name": "python3"
  },
  "language_info": {
   "codemirror_mode": {
    "name": "ipython",
    "version": 3
   },
   "file_extension": ".py",
   "mimetype": "text/x-python",
   "name": "python",
   "nbconvert_exporter": "python",
   "pygments_lexer": "ipython3",
   "version": "3.10.10"
  },
  "orig_nbformat": 4
 },
 "nbformat": 4,
 "nbformat_minor": 2
}
