{
 "cells": [
  {
   "attachments": {},
   "cell_type": "markdown",
   "metadata": {},
   "source": [
    "# data structure\n",
    "- list # imp\n",
    "  - indexed,mutable,ordered,'[ ]'\n",
    "- tuple\n",
    "  - indexed,ordered,immutable,'( )'\n",
    "- set\n",
    "  - unidexed,unodered,mutable,no duplcation,'{ }'\n",
    "- dictionary #imp\n",
    "  - unindexed,key-value pairs,mutable, '{ }'"
   ]
  },
  {
   "attachments": {},
   "cell_type": "markdown",
   "metadata": {},
   "source": [
    "# creating a list\n"
   ]
  },
  {
   "cell_type": "code",
   "execution_count": 2,
   "metadata": {},
   "outputs": [
    {
     "name": "stdout",
     "output_type": "stream",
     "text": [
      "[10, 10, 10, 10, 10]\n"
     ]
    }
   ],
   "source": [
    "x =[] #empty  list\n",
    "y = [1,2,3,4,5] #list of integers\n",
    "grocery = ['milk',55,'bread',20,'butter',49]\n",
    "z = ['sunday','monday','tuesday']\n",
    "info = [[1,2,3],[4,5,6],[7,8],[9,10,11]] #nested list\n",
    "a = [10]*5 #list of 5 elements with value 10\n",
    "print(a)"
   ]
  },
  {
   "cell_type": "code",
   "execution_count": 6,
   "metadata": {},
   "outputs": [
    {
     "name": "stdout",
     "output_type": "stream",
     "text": [
      "[10, 10, 10, 100, 10, 100]\n"
     ]
    }
   ],
   "source": [
    "x.append(10)\n",
    "x.append(int(input(\"Enter the number: \")))\n",
    "print(x)"
   ]
  },
  {
   "cell_type": "code",
   "execution_count": 7,
   "metadata": {},
   "outputs": [
    {
     "name": "stdout",
     "output_type": "stream",
     "text": [
      "[10, 10, 10, 100, 10, 100, 3, 4, 6]\n"
     ]
    }
   ],
   "source": [
    "for i in range(3):\n",
    "    val = int(input(\"enter a number: \"))\n",
    "    x.append(val)\n",
    "print(x)"
   ]
  },
  {
   "cell_type": "code",
   "execution_count": 8,
   "metadata": {},
   "outputs": [],
   "source": [
    "del info #deleting the list"
   ]
  },
  {
   "attachments": {},
   "cell_type": "markdown",
   "metadata": {},
   "source": [
    "# Slicing and indexing in list"
   ]
  },
  {
   "cell_type": "code",
   "execution_count": 10,
   "metadata": {},
   "outputs": [
    {
     "name": "stdout",
     "output_type": "stream",
     "text": [
      "10 6 4\n",
      "[10, 10, 10, 100, 10, 100, 3]\n",
      "[3, 4, 6]\n",
      "[6, 4, 3, 100, 10, 100, 10, 10, 10]\n"
     ]
    }
   ],
   "source": [
    "print(x[0],x[-1],x[-2])\n",
    "print(x[ :-2])\n",
    "print(x[-3: ])\n",
    "print(x[::-1])"
   ]
  },
  {
   "cell_type": "code",
   "execution_count": 11,
   "metadata": {},
   "outputs": [
    {
     "name": "stdout",
     "output_type": "stream",
     "text": [
      "10 10 10 100 10 100 3 4 6 "
     ]
    }
   ],
   "source": [
    "for i in x:\n",
    "    print(i, end= ' ')"
   ]
  },
  {
   "attachments": {},
   "cell_type": "markdown",
   "metadata": {},
   "source": [
    "\n",
    "# list functions\n",
    "   - adding\n",
    "     - append() - add single item to the end\n",
    "     - extend() - insert single item at the given index\n",
    "     - insert() - merge an list to an existing list\n",
    "   - remove\n",
    "     - remove() - remove single item by value\n",
    "     - pop()    - remove single item by index\n",
    "     - clear()  - remove all items\n",
    "   - utility\n",
    "     - index()  - find index of item by value\n",
    "     - count()  - count repeated items\n",
    "     - sort()   - sort items\n",
    "     - reverse() - reverse items\n",
    "     - copy()    - copy list"
   ]
  },
  {
   "attachments": {},
   "cell_type": "markdown",
   "metadata": {},
   "source": [
    "# append()"
   ]
  },
  {
   "cell_type": "code",
   "execution_count": 14,
   "metadata": {},
   "outputs": [
    {
     "data": {
      "text/plain": [
       "['The Final Empire', 'Psychology of Money', 'Well of Ascension']"
      ]
     },
     "execution_count": 14,
     "metadata": {},
     "output_type": "execute_result"
    }
   ],
   "source": [
    "books = [] #empty list\n",
    "books.append('The Final Empire')\n",
    "books.append('Psychology of Money')\n",
    "books.append('Well of Ascension')\n",
    "books"
   ]
  },
  {
   "attachments": {},
   "cell_type": "markdown",
   "metadata": {},
   "source": [
    "# inset()"
   ]
  },
  {
   "cell_type": "code",
   "execution_count": 15,
   "metadata": {},
   "outputs": [],
   "source": [
    "books.insert(1, \"Harry Potter\")"
   ]
  },
  {
   "cell_type": "code",
   "execution_count": 16,
   "metadata": {},
   "outputs": [
    {
     "data": {
      "text/plain": [
       "['The Final Empire',\n",
       " 'Harry Potter',\n",
       " 'Psychology of Money',\n",
       " 'Well of Ascension']"
      ]
     },
     "execution_count": 16,
     "metadata": {},
     "output_type": "execute_result"
    }
   ],
   "source": [
    "books"
   ]
  },
  {
   "cell_type": "code",
   "execution_count": 19,
   "metadata": {},
   "outputs": [
    {
     "data": {
      "text/plain": [
       "['The Final Empire', 'Harry Potter', 'The Hero of Ages', 'Well of Ascension']"
      ]
     },
     "execution_count": 19,
     "metadata": {},
     "output_type": "execute_result"
    }
   ],
   "source": [
    "books[2] = \"The Hero of Ages\"\n",
    "books"
   ]
  },
  {
   "attachments": {},
   "cell_type": "markdown",
   "metadata": {},
   "source": [
    "# extend()"
   ]
  },
  {
   "cell_type": "code",
   "execution_count": 20,
   "metadata": {},
   "outputs": [
    {
     "data": {
      "text/plain": [
       "['The Final Empire',\n",
       " 'Harry Potter',\n",
       " 'The Hero of Ages',\n",
       " 'Well of Ascension',\n",
       " 'The Lord of Rings',\n",
       " 'Umbrella',\n",
       " 'The Jungle Book',\n",
       " 'Pride and Prejudice']"
      ]
     },
     "execution_count": 20,
     "metadata": {},
     "output_type": "execute_result"
    }
   ],
   "source": [
    "old_books = [\"The Lord of Rings\",\"Umbrella\",\"The Jungle Book\",\"Pride and Prejudice\"]\n",
    "books.extend(old_books)\n",
    "books"
   ]
  },
  {
   "attachments": {},
   "cell_type": "markdown",
   "metadata": {},
   "source": [
    "# remove()"
   ]
  },
  {
   "cell_type": "code",
   "execution_count": 21,
   "metadata": {},
   "outputs": [
    {
     "data": {
      "text/plain": [
       "['The Final Empire',\n",
       " 'Harry Potter',\n",
       " 'The Hero of Ages',\n",
       " 'Well of Ascension',\n",
       " 'The Lord of Rings',\n",
       " 'Umbrella',\n",
       " 'Pride and Prejudice']"
      ]
     },
     "execution_count": 21,
     "metadata": {},
     "output_type": "execute_result"
    }
   ],
   "source": [
    "if 'The Jungle Book' in books:\n",
    "   books.remove('The Jungle Book') #removes only the first Occurence\n",
    "books"
   ]
  },
  {
   "attachments": {},
   "cell_type": "markdown",
   "metadata": {},
   "source": [
    "# pop()"
   ]
  },
  {
   "cell_type": "code",
   "execution_count": 22,
   "metadata": {},
   "outputs": [
    {
     "data": {
      "text/plain": [
       "'The Lord of Rings'"
      ]
     },
     "execution_count": 22,
     "metadata": {},
     "output_type": "execute_result"
    }
   ],
   "source": [
    "books.pop(4) #it remove the item and return the same item as the output\n"
   ]
  },
  {
   "cell_type": "code",
   "execution_count": 23,
   "metadata": {},
   "outputs": [
    {
     "data": {
      "text/plain": [
       "'Pride and Prejudice'"
      ]
     },
     "execution_count": 23,
     "metadata": {},
     "output_type": "execute_result"
    }
   ],
   "source": [
    "books.pop() #removes the last item"
   ]
  },
  {
   "cell_type": "code",
   "execution_count": 24,
   "metadata": {},
   "outputs": [
    {
     "data": {
      "text/plain": [
       "['The Final Empire',\n",
       " 'Harry Potter',\n",
       " 'The Hero of Ages',\n",
       " 'Well of Ascension',\n",
       " 'Umbrella']"
      ]
     },
     "execution_count": 24,
     "metadata": {},
     "output_type": "execute_result"
    }
   ],
   "source": [
    "books"
   ]
  },
  {
   "attachments": {},
   "cell_type": "markdown",
   "metadata": {},
   "source": [
    "# clear()"
   ]
  },
  {
   "cell_type": "code",
   "execution_count": 25,
   "metadata": {},
   "outputs": [
    {
     "data": {
      "text/plain": [
       "[]"
      ]
     },
     "execution_count": 25,
     "metadata": {},
     "output_type": "execute_result"
    }
   ],
   "source": [
    "books.clear()\n",
    "books"
   ]
  },
  {
   "cell_type": "code",
   "execution_count": 28,
   "metadata": {},
   "outputs": [
    {
     "data": {
      "text/plain": [
       "['The Shawshank Redemption',\n",
       " 'The Godfather',\n",
       " 'Pulp Fiction',\n",
       " 'The Dark Knight',\n",
       " 'Fight Club',\n",
       " 'The Matrix',\n",
       " 'Goodfellas',\n",
       " 'Forrest Gump',\n",
       " 'Inception',\n",
       " 'The Lord of the Rings: The Fellowship of the Ring',\n",
       " 'Star Wars: Episode IV - A New Hope',\n",
       " 'The Avengers',\n",
       " 'Titanic',\n",
       " 'Gladiator',\n",
       " 'The Lion King',\n",
       " 'The Departed',\n",
       " 'Braveheart',\n",
       " \"Schindler's List\",\n",
       " 'The Silence of the Lambs',\n",
       " 'Casablanca',\n",
       " 'The Terminator',\n",
       " 'Saving Private Ryan',\n",
       " 'The Prestige',\n",
       " 'The Shawshank Redemption',\n",
       " 'The Green Mile',\n",
       " 'The Godfather: Part II',\n",
       " 'The Empire Strikes Back',\n",
       " 'The Dark Knight Rises',\n",
       " 'Interstellar',\n",
       " 'The Sixth Sense',\n",
       " 'The Social Network',\n",
       " 'The Incredibles',\n",
       " 'Jurassic Park',\n",
       " 'Back to the Future',\n",
       " 'Raiders of the Lost Ark',\n",
       " 'The Shining',\n",
       " 'The Breakfast Club',\n",
       " 'The Princess Bride',\n",
       " 'The Grand Budapest Hotel',\n",
       " 'Blade Runner',\n",
       " 'The Big Lebowski',\n",
       " 'The Usual Suspects',\n",
       " 'A Clockwork Orange',\n",
       " 'Eternal Sunshine of the Spotless Mind',\n",
       " 'The Great Gatsby',\n",
       " 'Gone with the Wind',\n",
       " 'The Sound of Music',\n",
       " 'Seven',\n",
       " 'The Godfather: Part III',\n",
       " 'The Wizard of Oz',\n",
       " 'The Exorcist',\n",
       " 'Django Unchained',\n",
       " 'The Truman Show',\n",
       " 'Reservoir Dogs',\n",
       " 'The Avengers: Endgame',\n",
       " 'Jaws',\n",
       " 'The Iron Giant',\n",
       " 'Amélie',\n",
       " 'The Good, the Bad and the Ugly',\n",
       " 'The Hunt for Red October',\n",
       " 'The Bourne Identity',\n",
       " 'The Departed',\n",
       " 'The Pianist',\n",
       " 'The Social Network',\n",
       " 'No Country for Old Men',\n",
       " 'The Wolf of Wall Street',\n",
       " '12 Angry Men',\n",
       " 'A Beautiful Mind',\n",
       " 'The Revenant',\n",
       " 'The Hateful Eight',\n",
       " 'The Notebook',\n",
       " 'Avatar',\n",
       " \"The King's Speech\",\n",
       " 'The Hurt Locker',\n",
       " 'The Big Short',\n",
       " 'The Martian',\n",
       " 'Spotlight',\n",
       " 'La La Land',\n",
       " 'Moonlight',\n",
       " 'Manchester by the Sea',\n",
       " 'Get Out',\n",
       " 'Black Panther',\n",
       " 'Spider-Man: Into the Spider-Verse',\n",
       " 'Bohemian Rhapsody',\n",
       " 'Parasite',\n",
       " 'Joker',\n",
       " 'Knives Out',\n",
       " 'Marriage Story',\n",
       " 'Once Upon a Time in Hollywood',\n",
       " '1917',\n",
       " 'Tenet',\n",
       " 'Soul',\n",
       " 'Nomadland',\n",
       " 'Promising Young Woman',\n",
       " 'Sound of Metal',\n",
       " 'Judas and the Black Messiah',\n",
       " 'Minari',\n",
       " 'The Trial of the Chicago 7',\n",
       " 'Black Widow',\n",
       " 'Dune']"
      ]
     },
     "execution_count": 28,
     "metadata": {},
     "output_type": "execute_result"
    }
   ],
   "source": [
    "movies = '''The Shawshank Redemption\n",
    "The Godfather\n",
    "Pulp Fiction\n",
    "The Dark Knight\n",
    "Fight Club\n",
    "The Matrix\n",
    "Goodfellas\n",
    "Forrest Gump\n",
    "Inception\n",
    "The Lord of the Rings: The Fellowship of the Ring\n",
    "Star Wars: Episode IV - A New Hope\n",
    "The Avengers\n",
    "Titanic\n",
    "Gladiator\n",
    "The Lion King\n",
    "The Departed\n",
    "Braveheart\n",
    "Schindler's List\n",
    "The Silence of the Lambs\n",
    "Casablanca\n",
    "The Terminator\n",
    "Saving Private Ryan\n",
    "The Prestige\n",
    "The Shawshank Redemption\n",
    "The Green Mile\n",
    "The Godfather: Part II\n",
    "The Empire Strikes Back\n",
    "The Dark Knight Rises\n",
    "Interstellar\n",
    "The Sixth Sense\n",
    "The Social Network\n",
    "The Incredibles\n",
    "Jurassic Park\n",
    "Back to the Future\n",
    "Raiders of the Lost Ark\n",
    "The Shining\n",
    "The Breakfast Club\n",
    "The Princess Bride\n",
    "The Grand Budapest Hotel\n",
    "Blade Runner\n",
    "The Big Lebowski\n",
    "The Usual Suspects\n",
    "A Clockwork Orange\n",
    "Eternal Sunshine of the Spotless Mind\n",
    "The Great Gatsby\n",
    "Gone with the Wind\n",
    "The Sound of Music\n",
    "Seven\n",
    "The Godfather: Part III\n",
    "The Wizard of Oz\n",
    "The Exorcist\n",
    "Django Unchained\n",
    "The Truman Show\n",
    "Reservoir Dogs\n",
    "The Avengers: Endgame\n",
    "Jaws\n",
    "The Iron Giant\n",
    "Amélie\n",
    "The Good, the Bad and the Ugly\n",
    "The Hunt for Red October\n",
    "The Bourne Identity\n",
    "The Departed\n",
    "The Pianist\n",
    "The Social Network\n",
    "No Country for Old Men\n",
    "The Wolf of Wall Street\n",
    "12 Angry Men\n",
    "A Beautiful Mind\n",
    "The Revenant\n",
    "The Hateful Eight\n",
    "The Notebook\n",
    "Avatar\n",
    "The King's Speech\n",
    "The Hurt Locker\n",
    "The Big Short\n",
    "The Martian\n",
    "Spotlight\n",
    "La La Land\n",
    "Moonlight\n",
    "Manchester by the Sea\n",
    "Get Out\n",
    "Black Panther\n",
    "Spider-Man: Into the Spider-Verse\n",
    "Bohemian Rhapsody\n",
    "Parasite\n",
    "Joker\n",
    "Knives Out\n",
    "Marriage Story\n",
    "Once Upon a Time in Hollywood\n",
    "1917\n",
    "Tenet\n",
    "Soul\n",
    "Nomadland\n",
    "Promising Young Woman\n",
    "Sound of Metal\n",
    "Judas and the Black Messiah\n",
    "Minari\n",
    "The Trial of the Chicago 7\n",
    "Black Widow\n",
    "Dune\n",
    "'''\n",
    "data = movies.splitlines()\n",
    "data"
   ]
  },
  {
   "attachments": {},
   "cell_type": "markdown",
   "metadata": {},
   "source": [
    "# len()"
   ]
  },
  {
   "cell_type": "code",
   "execution_count": 29,
   "metadata": {},
   "outputs": [
    {
     "name": "stdout",
     "output_type": "stream",
     "text": [
      "100\n"
     ]
    }
   ],
   "source": [
    "print(len(data))"
   ]
  },
  {
   "attachments": {},
   "cell_type": "markdown",
   "metadata": {},
   "source": [
    "# reverse()"
   ]
  },
  {
   "cell_type": "code",
   "execution_count": 31,
   "metadata": {},
   "outputs": [],
   "source": [
    "data.reverse()"
   ]
  },
  {
   "cell_type": "code",
   "execution_count": 32,
   "metadata": {},
   "outputs": [
    {
     "data": {
      "text/plain": [
       "['Dune',\n",
       " 'Black Widow',\n",
       " 'The Trial of the Chicago 7',\n",
       " 'Minari',\n",
       " 'Judas and the Black Messiah',\n",
       " 'Sound of Metal',\n",
       " 'Promising Young Woman',\n",
       " 'Nomadland',\n",
       " 'Soul',\n",
       " 'Tenet',\n",
       " '1917',\n",
       " 'Once Upon a Time in Hollywood',\n",
       " 'Marriage Story',\n",
       " 'Knives Out',\n",
       " 'Joker',\n",
       " 'Parasite',\n",
       " 'Bohemian Rhapsody',\n",
       " 'Spider-Man: Into the Spider-Verse',\n",
       " 'Black Panther',\n",
       " 'Get Out',\n",
       " 'Manchester by the Sea',\n",
       " 'Moonlight',\n",
       " 'La La Land',\n",
       " 'Spotlight',\n",
       " 'The Martian',\n",
       " 'The Big Short',\n",
       " 'The Hurt Locker',\n",
       " \"The King's Speech\",\n",
       " 'Avatar',\n",
       " 'The Notebook',\n",
       " 'The Hateful Eight',\n",
       " 'The Revenant',\n",
       " 'A Beautiful Mind',\n",
       " '12 Angry Men',\n",
       " 'The Wolf of Wall Street',\n",
       " 'No Country for Old Men',\n",
       " 'The Social Network',\n",
       " 'The Pianist',\n",
       " 'The Departed',\n",
       " 'The Bourne Identity',\n",
       " 'The Hunt for Red October',\n",
       " 'The Good, the Bad and the Ugly',\n",
       " 'Amélie',\n",
       " 'The Iron Giant',\n",
       " 'Jaws',\n",
       " 'The Avengers: Endgame',\n",
       " 'Reservoir Dogs',\n",
       " 'The Truman Show',\n",
       " 'Django Unchained',\n",
       " 'The Exorcist',\n",
       " 'The Wizard of Oz',\n",
       " 'The Godfather: Part III',\n",
       " 'Seven',\n",
       " 'The Sound of Music',\n",
       " 'Gone with the Wind',\n",
       " 'The Great Gatsby',\n",
       " 'Eternal Sunshine of the Spotless Mind',\n",
       " 'A Clockwork Orange',\n",
       " 'The Usual Suspects',\n",
       " 'The Big Lebowski',\n",
       " 'Blade Runner',\n",
       " 'The Grand Budapest Hotel',\n",
       " 'The Princess Bride',\n",
       " 'The Breakfast Club',\n",
       " 'The Shining',\n",
       " 'Raiders of the Lost Ark',\n",
       " 'Back to the Future',\n",
       " 'Jurassic Park',\n",
       " 'The Incredibles',\n",
       " 'The Social Network',\n",
       " 'The Sixth Sense',\n",
       " 'Interstellar',\n",
       " 'The Dark Knight Rises',\n",
       " 'The Empire Strikes Back',\n",
       " 'The Godfather: Part II',\n",
       " 'The Green Mile',\n",
       " 'The Shawshank Redemption',\n",
       " 'The Prestige',\n",
       " 'Saving Private Ryan',\n",
       " 'The Terminator',\n",
       " 'Casablanca',\n",
       " 'The Silence of the Lambs',\n",
       " \"Schindler's List\",\n",
       " 'Braveheart',\n",
       " 'The Departed',\n",
       " 'The Lion King',\n",
       " 'Gladiator',\n",
       " 'Titanic',\n",
       " 'The Avengers',\n",
       " 'Star Wars: Episode IV - A New Hope',\n",
       " 'The Lord of the Rings: The Fellowship of the Ring',\n",
       " 'Inception',\n",
       " 'Forrest Gump',\n",
       " 'Goodfellas',\n",
       " 'The Matrix',\n",
       " 'Fight Club',\n",
       " 'The Dark Knight',\n",
       " 'Pulp Fiction',\n",
       " 'The Godfather',\n",
       " 'The Shawshank Redemption']"
      ]
     },
     "execution_count": 32,
     "metadata": {},
     "output_type": "execute_result"
    }
   ],
   "source": [
    "data"
   ]
  },
  {
   "attachments": {},
   "cell_type": "markdown",
   "metadata": {},
   "source": [
    "# sort()"
   ]
  },
  {
   "cell_type": "code",
   "execution_count": 33,
   "metadata": {},
   "outputs": [],
   "source": [
    "data.sort()"
   ]
  },
  {
   "cell_type": "code",
   "execution_count": 34,
   "metadata": {},
   "outputs": [
    {
     "data": {
      "text/plain": [
       "['12 Angry Men',\n",
       " '1917',\n",
       " 'A Beautiful Mind',\n",
       " 'A Clockwork Orange',\n",
       " 'Amélie',\n",
       " 'Avatar',\n",
       " 'Back to the Future',\n",
       " 'Black Panther',\n",
       " 'Black Widow',\n",
       " 'Blade Runner',\n",
       " 'Bohemian Rhapsody',\n",
       " 'Braveheart',\n",
       " 'Casablanca',\n",
       " 'Django Unchained',\n",
       " 'Dune',\n",
       " 'Eternal Sunshine of the Spotless Mind',\n",
       " 'Fight Club',\n",
       " 'Forrest Gump',\n",
       " 'Get Out',\n",
       " 'Gladiator',\n",
       " 'Gone with the Wind',\n",
       " 'Goodfellas',\n",
       " 'Inception',\n",
       " 'Interstellar',\n",
       " 'Jaws',\n",
       " 'Joker',\n",
       " 'Judas and the Black Messiah',\n",
       " 'Jurassic Park',\n",
       " 'Knives Out',\n",
       " 'La La Land',\n",
       " 'Manchester by the Sea',\n",
       " 'Marriage Story',\n",
       " 'Minari',\n",
       " 'Moonlight',\n",
       " 'No Country for Old Men',\n",
       " 'Nomadland',\n",
       " 'Once Upon a Time in Hollywood',\n",
       " 'Parasite',\n",
       " 'Promising Young Woman',\n",
       " 'Pulp Fiction',\n",
       " 'Raiders of the Lost Ark',\n",
       " 'Reservoir Dogs',\n",
       " 'Saving Private Ryan',\n",
       " \"Schindler's List\",\n",
       " 'Seven',\n",
       " 'Soul',\n",
       " 'Sound of Metal',\n",
       " 'Spider-Man: Into the Spider-Verse',\n",
       " 'Spotlight',\n",
       " 'Star Wars: Episode IV - A New Hope',\n",
       " 'Tenet',\n",
       " 'The Avengers',\n",
       " 'The Avengers: Endgame',\n",
       " 'The Big Lebowski',\n",
       " 'The Big Short',\n",
       " 'The Bourne Identity',\n",
       " 'The Breakfast Club',\n",
       " 'The Dark Knight',\n",
       " 'The Dark Knight Rises',\n",
       " 'The Departed',\n",
       " 'The Departed',\n",
       " 'The Empire Strikes Back',\n",
       " 'The Exorcist',\n",
       " 'The Godfather',\n",
       " 'The Godfather: Part II',\n",
       " 'The Godfather: Part III',\n",
       " 'The Good, the Bad and the Ugly',\n",
       " 'The Grand Budapest Hotel',\n",
       " 'The Great Gatsby',\n",
       " 'The Green Mile',\n",
       " 'The Hateful Eight',\n",
       " 'The Hunt for Red October',\n",
       " 'The Hurt Locker',\n",
       " 'The Incredibles',\n",
       " 'The Iron Giant',\n",
       " \"The King's Speech\",\n",
       " 'The Lion King',\n",
       " 'The Lord of the Rings: The Fellowship of the Ring',\n",
       " 'The Martian',\n",
       " 'The Matrix',\n",
       " 'The Notebook',\n",
       " 'The Pianist',\n",
       " 'The Prestige',\n",
       " 'The Princess Bride',\n",
       " 'The Revenant',\n",
       " 'The Shawshank Redemption',\n",
       " 'The Shawshank Redemption',\n",
       " 'The Shining',\n",
       " 'The Silence of the Lambs',\n",
       " 'The Sixth Sense',\n",
       " 'The Social Network',\n",
       " 'The Social Network',\n",
       " 'The Sound of Music',\n",
       " 'The Terminator',\n",
       " 'The Trial of the Chicago 7',\n",
       " 'The Truman Show',\n",
       " 'The Usual Suspects',\n",
       " 'The Wizard of Oz',\n",
       " 'The Wolf of Wall Street',\n",
       " 'Titanic']"
      ]
     },
     "execution_count": 34,
     "metadata": {},
     "output_type": "execute_result"
    }
   ],
   "source": [
    "data"
   ]
  },
  {
   "cell_type": "code",
   "execution_count": 35,
   "metadata": {},
   "outputs": [
    {
     "data": {
      "text/plain": [
       "['Titanic',\n",
       " 'The Wolf of Wall Street',\n",
       " 'The Wizard of Oz',\n",
       " 'The Usual Suspects',\n",
       " 'The Truman Show',\n",
       " 'The Trial of the Chicago 7',\n",
       " 'The Terminator',\n",
       " 'The Sound of Music',\n",
       " 'The Social Network',\n",
       " 'The Social Network',\n",
       " 'The Sixth Sense',\n",
       " 'The Silence of the Lambs',\n",
       " 'The Shining',\n",
       " 'The Shawshank Redemption',\n",
       " 'The Shawshank Redemption',\n",
       " 'The Revenant',\n",
       " 'The Princess Bride',\n",
       " 'The Prestige',\n",
       " 'The Pianist',\n",
       " 'The Notebook',\n",
       " 'The Matrix',\n",
       " 'The Martian',\n",
       " 'The Lord of the Rings: The Fellowship of the Ring',\n",
       " 'The Lion King',\n",
       " \"The King's Speech\",\n",
       " 'The Iron Giant',\n",
       " 'The Incredibles',\n",
       " 'The Hurt Locker',\n",
       " 'The Hunt for Red October',\n",
       " 'The Hateful Eight',\n",
       " 'The Green Mile',\n",
       " 'The Great Gatsby',\n",
       " 'The Grand Budapest Hotel',\n",
       " 'The Good, the Bad and the Ugly',\n",
       " 'The Godfather: Part III',\n",
       " 'The Godfather: Part II',\n",
       " 'The Godfather',\n",
       " 'The Exorcist',\n",
       " 'The Empire Strikes Back',\n",
       " 'The Departed',\n",
       " 'The Departed',\n",
       " 'The Dark Knight Rises',\n",
       " 'The Dark Knight',\n",
       " 'The Breakfast Club',\n",
       " 'The Bourne Identity',\n",
       " 'The Big Short',\n",
       " 'The Big Lebowski',\n",
       " 'The Avengers: Endgame',\n",
       " 'The Avengers',\n",
       " 'Tenet',\n",
       " 'Star Wars: Episode IV - A New Hope',\n",
       " 'Spotlight',\n",
       " 'Spider-Man: Into the Spider-Verse',\n",
       " 'Sound of Metal',\n",
       " 'Soul',\n",
       " 'Seven',\n",
       " \"Schindler's List\",\n",
       " 'Saving Private Ryan',\n",
       " 'Reservoir Dogs',\n",
       " 'Raiders of the Lost Ark',\n",
       " 'Pulp Fiction',\n",
       " 'Promising Young Woman',\n",
       " 'Parasite',\n",
       " 'Once Upon a Time in Hollywood',\n",
       " 'Nomadland',\n",
       " 'No Country for Old Men',\n",
       " 'Moonlight',\n",
       " 'Minari',\n",
       " 'Marriage Story',\n",
       " 'Manchester by the Sea',\n",
       " 'La La Land',\n",
       " 'Knives Out',\n",
       " 'Jurassic Park',\n",
       " 'Judas and the Black Messiah',\n",
       " 'Joker',\n",
       " 'Jaws',\n",
       " 'Interstellar',\n",
       " 'Inception',\n",
       " 'Goodfellas',\n",
       " 'Gone with the Wind',\n",
       " 'Gladiator',\n",
       " 'Get Out',\n",
       " 'Forrest Gump',\n",
       " 'Fight Club',\n",
       " 'Eternal Sunshine of the Spotless Mind',\n",
       " 'Dune',\n",
       " 'Django Unchained',\n",
       " 'Casablanca',\n",
       " 'Braveheart',\n",
       " 'Bohemian Rhapsody',\n",
       " 'Blade Runner',\n",
       " 'Black Widow',\n",
       " 'Black Panther',\n",
       " 'Back to the Future',\n",
       " 'Avatar',\n",
       " 'Amélie',\n",
       " 'A Clockwork Orange',\n",
       " 'A Beautiful Mind',\n",
       " '1917',\n",
       " '12 Angry Men']"
      ]
     },
     "execution_count": 35,
     "metadata": {},
     "output_type": "execute_result"
    }
   ],
   "source": [
    "data.sort(reverse = True)\n",
    "data"
   ]
  },
  {
   "attachments": {},
   "cell_type": "markdown",
   "metadata": {},
   "source": [
    "# count()"
   ]
  },
  {
   "cell_type": "code",
   "execution_count": 36,
   "metadata": {},
   "outputs": [
    {
     "data": {
      "text/plain": [
       "1"
      ]
     },
     "execution_count": 36,
     "metadata": {},
     "output_type": "execute_result"
    }
   ],
   "source": [
    "data.count('Avatar')"
   ]
  },
  {
   "cell_type": "code",
   "execution_count": 37,
   "metadata": {},
   "outputs": [
    {
     "name": "stdout",
     "output_type": "stream",
     "text": [
      "3\n",
      "3\n",
      "2\n"
     ]
    }
   ],
   "source": [
    "x = [1,2,1,2,5,1,5,2]\n",
    "print(x.count(1))\n",
    "print(x.count(2))\n",
    "print(x.count(5))"
   ]
  },
  {
   "attachments": {},
   "cell_type": "markdown",
   "metadata": {},
   "source": [
    "# index()"
   ]
  },
  {
   "cell_type": "code",
   "execution_count": 40,
   "metadata": {},
   "outputs": [
    {
     "data": {
      "text/plain": [
       "77"
      ]
     },
     "execution_count": 40,
     "metadata": {},
     "output_type": "execute_result"
    }
   ],
   "source": [
    "data.index('Inception')"
   ]
  },
  {
   "cell_type": "code",
   "execution_count": 41,
   "metadata": {},
   "outputs": [
    {
     "data": {
      "text/plain": [
       "0"
      ]
     },
     "execution_count": 41,
     "metadata": {},
     "output_type": "execute_result"
    }
   ],
   "source": [
    "data.index('Titanic')"
   ]
  },
  {
   "attachments": {},
   "cell_type": "markdown",
   "metadata": {},
   "source": [
    "# copy()"
   ]
  },
  {
   "cell_type": "code",
   "execution_count": 42,
   "metadata": {},
   "outputs": [
    {
     "data": {
      "text/plain": [
       "['Titanic',\n",
       " 'The Wolf of Wall Street',\n",
       " 'The Wizard of Oz',\n",
       " 'The Usual Suspects',\n",
       " 'The Truman Show',\n",
       " 'The Trial of the Chicago 7',\n",
       " 'The Terminator',\n",
       " 'The Sound of Music',\n",
       " 'The Social Network',\n",
       " 'The Social Network',\n",
       " 'The Sixth Sense',\n",
       " 'The Silence of the Lambs',\n",
       " 'The Shining',\n",
       " 'The Shawshank Redemption',\n",
       " 'The Shawshank Redemption',\n",
       " 'The Revenant',\n",
       " 'The Princess Bride',\n",
       " 'The Prestige',\n",
       " 'The Pianist',\n",
       " 'The Notebook',\n",
       " 'The Matrix',\n",
       " 'The Martian',\n",
       " 'The Lord of the Rings: The Fellowship of the Ring',\n",
       " 'The Lion King',\n",
       " \"The King's Speech\",\n",
       " 'The Iron Giant',\n",
       " 'The Incredibles',\n",
       " 'The Hurt Locker',\n",
       " 'The Hunt for Red October',\n",
       " 'The Hateful Eight',\n",
       " 'The Green Mile',\n",
       " 'The Great Gatsby',\n",
       " 'The Grand Budapest Hotel',\n",
       " 'The Good, the Bad and the Ugly',\n",
       " 'The Godfather: Part III',\n",
       " 'The Godfather: Part II',\n",
       " 'The Godfather',\n",
       " 'The Exorcist',\n",
       " 'The Empire Strikes Back',\n",
       " 'The Departed',\n",
       " 'The Departed',\n",
       " 'The Dark Knight Rises',\n",
       " 'The Dark Knight',\n",
       " 'The Breakfast Club',\n",
       " 'The Bourne Identity',\n",
       " 'The Big Short',\n",
       " 'The Big Lebowski',\n",
       " 'The Avengers: Endgame',\n",
       " 'The Avengers',\n",
       " 'Tenet',\n",
       " 'Star Wars: Episode IV - A New Hope',\n",
       " 'Spotlight',\n",
       " 'Spider-Man: Into the Spider-Verse',\n",
       " 'Sound of Metal',\n",
       " 'Soul',\n",
       " 'Seven',\n",
       " \"Schindler's List\",\n",
       " 'Saving Private Ryan',\n",
       " 'Reservoir Dogs',\n",
       " 'Raiders of the Lost Ark',\n",
       " 'Pulp Fiction',\n",
       " 'Promising Young Woman',\n",
       " 'Parasite',\n",
       " 'Once Upon a Time in Hollywood',\n",
       " 'Nomadland',\n",
       " 'No Country for Old Men',\n",
       " 'Moonlight',\n",
       " 'Minari',\n",
       " 'Marriage Story',\n",
       " 'Manchester by the Sea',\n",
       " 'La La Land',\n",
       " 'Knives Out',\n",
       " 'Jurassic Park',\n",
       " 'Judas and the Black Messiah',\n",
       " 'Joker',\n",
       " 'Jaws',\n",
       " 'Interstellar',\n",
       " 'Inception',\n",
       " 'Goodfellas',\n",
       " 'Gone with the Wind',\n",
       " 'Gladiator',\n",
       " 'Get Out',\n",
       " 'Forrest Gump',\n",
       " 'Fight Club',\n",
       " 'Eternal Sunshine of the Spotless Mind',\n",
       " 'Dune',\n",
       " 'Django Unchained',\n",
       " 'Casablanca',\n",
       " 'Braveheart',\n",
       " 'Bohemian Rhapsody',\n",
       " 'Blade Runner',\n",
       " 'Black Widow',\n",
       " 'Black Panther',\n",
       " 'Back to the Future',\n",
       " 'Avatar',\n",
       " 'Amélie',\n",
       " 'A Clockwork Orange',\n",
       " 'A Beautiful Mind',\n",
       " '1917',\n",
       " '12 Angry Men']"
      ]
     },
     "execution_count": 42,
     "metadata": {},
     "output_type": "execute_result"
    }
   ],
   "source": [
    "movies_2 = data.copy()\n",
    "movies_2"
   ]
  },
  {
   "cell_type": "code",
   "execution_count": 43,
   "metadata": {},
   "outputs": [
    {
     "name": "stdout",
     "output_type": "stream",
     "text": [
      "[7, 23, 16, 18, 15, 26, 14, 18, 18, 18, 15, 24, 11, 24, 24, 12, 18, 12, 11, 12, 10, 11, 49, 13, 17, 14, 15, 15, 24, 17, 14, 16, 24, 30, 23, 22, 13, 12, 23, 12, 12, 21, 15, 18, 19, 13, 16, 21, 12, 5, 34, 9, 33, 14, 4, 5, 16, 19, 14, 23, 12, 21, 8, 29, 9, 22, 9, 6, 14, 21, 10, 10, 13, 27, 5, 4, 12, 9, 10, 18, 9, 7, 12, 10, 37, 4, 16, 10, 10, 17, 12, 11, 13, 18, 6, 6, 18, 16, 4, 12]\n"
     ]
    }
   ],
   "source": [
    "size_movies = []\n",
    "for movie in data:\n",
    "    s = len(movie)\n",
    "    size_movies.append(s)\n",
    "print(size_movies)"
   ]
  },
  {
   "attachments": {},
   "cell_type": "markdown",
   "metadata": {},
   "source": [
    "# list comprehension\n",
    "- syntax\n",
    "   - new_list = [operation loop condition] \n",
    "   - condition is optional\n",
    "   - example:\n",
    "     - size_movies = [len(i) for i in data]"
   ]
  },
  {
   "cell_type": "code",
   "execution_count": 44,
   "metadata": {},
   "outputs": [
    {
     "name": "stdout",
     "output_type": "stream",
     "text": [
      "[12, 2, 3, 5, 6, 7, 8, 9]\n",
      "[144, 4, 9, 25, 36, 49, 64, 81]\n"
     ]
    }
   ],
   "source": [
    "x = [12,2,3,5,6,7,8,9]\n",
    "x2 = [i**2 for i in x]\n",
    "print(x)\n",
    "print(x2)"
   ]
  },
  {
   "cell_type": "code",
   "execution_count": 45,
   "metadata": {},
   "outputs": [
    {
     "name": "stdout",
     "output_type": "stream",
     "text": [
      "[12, 2, 3, 5, 6, 7, 8, 9]\n",
      "[144, 4, 36, 64]\n"
     ]
    }
   ],
   "source": [
    "x2_even = [i**2 for i in x if i%2 == 0]\n",
    "print(x)\n",
    "print(x2_even)"
   ]
  },
  {
   "cell_type": "code",
   "execution_count": 46,
   "metadata": {},
   "outputs": [
    {
     "name": "stdout",
     "output_type": "stream",
     "text": [
      "['Alex', 'Sam', 'Raj', 'Amar', 'Bruce']\n"
     ]
    }
   ],
   "source": [
    "names = ['Alex Firece','Sam Hemmingay','Raj Mohan','Amar Pratap','Bruce Lee']\n",
    "f_name = [name.split()[0] for name in names]\n",
    "print(f_name)"
   ]
  },
  {
   "cell_type": "code",
   "execution_count": 47,
   "metadata": {},
   "outputs": [
    {
     "name": "stdout",
     "output_type": "stream",
     "text": [
      "[125, 343, 27, 1, 343]\n"
     ]
    }
   ],
   "source": [
    "numbers = [2,5,7,3,1,4,7]\n",
    "odd_cubes = [i**3 for i in numbers if i%2!=0]\n",
    "print(odd_cubes)"
   ]
  },
  {
   "cell_type": "code",
   "execution_count": null,
   "metadata": {},
   "outputs": [],
   "source": []
  }
 ],
 "metadata": {
  "kernelspec": {
   "display_name": "base",
   "language": "python",
   "name": "python3"
  },
  "language_info": {
   "codemirror_mode": {
    "name": "ipython",
    "version": 3
   },
   "file_extension": ".py",
   "mimetype": "text/x-python",
   "name": "python",
   "nbconvert_exporter": "python",
   "pygments_lexer": "ipython3",
   "version": "3.10.10"
  },
  "orig_nbformat": 4
 },
 "nbformat": 4,
 "nbformat_minor": 2
}
