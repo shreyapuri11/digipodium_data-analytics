{
 "cells": [
  {
   "attachments": {},
   "cell_type": "markdown",
   "metadata": {},
   "source": [
    "# Classes"
   ]
  },
  {
   "cell_type": "code",
   "execution_count": 13,
   "metadata": {},
   "outputs": [],
   "source": [
    "class Cat:\n",
    "    def __init__(self,breed,age,color='black'):\n",
    "        #print(\"Cat created\")\n",
    "        #print(f'Breed: {breed}')\n",
    "        #print(f'Age: {age}')\n",
    "        #print(f'Color: {color}')\n",
    "        self.breed = breed\n",
    "        self.age = age\n",
    "        self.color = color"
   ]
  },
  {
   "cell_type": "code",
   "execution_count": 14,
   "metadata": {},
   "outputs": [
    {
     "name": "stdout",
     "output_type": "stream",
     "text": [
      "street cat 5 black\n"
     ]
    }
   ],
   "source": [
    "billu = Cat('street cat',5)\n",
    "#dender methods or magic methods used in advance method\n",
    "sheru = Cat('persian cat',2,'white')\n",
    "alice = Cat('egyptian cat',1,'red')\n",
    "tiger = Cat('bengal cat', 3,'yellow')\n",
    "\n",
    "print(billu.breed,billu.age,billu.color)\n",
    "\n"
   ]
  },
  {
   "cell_type": "code",
   "execution_count": null,
   "metadata": {},
   "outputs": [],
   "source": []
  }
 ],
 "metadata": {
  "kernelspec": {
   "display_name": "base",
   "language": "python",
   "name": "python3"
  },
  "language_info": {
   "codemirror_mode": {
    "name": "ipython",
    "version": 3
   },
   "file_extension": ".py",
   "mimetype": "text/x-python",
   "name": "python",
   "nbconvert_exporter": "python",
   "pygments_lexer": "ipython3",
   "version": "3.10.10"
  },
  "orig_nbformat": 4
 },
 "nbformat": 4,
 "nbformat_minor": 2
}
