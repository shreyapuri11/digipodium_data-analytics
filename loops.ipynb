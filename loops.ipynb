{
 "cells": [
  {
   "attachments": {},
   "cell_type": "markdown",
   "metadata": {},
   "source": [
    "#Loops"
   ]
  },
  {
   "cell_type": "code",
   "execution_count": 2,
   "metadata": {},
   "outputs": [
    {
     "name": "stdout",
     "output_type": "stream",
     "text": [
      "10\n"
     ]
    }
   ],
   "source": [
    "movies = ['Pihu', 'Harry Potter', 'Kerala story','Wednesday','Dark Knight','Pathan','Fast Five','Titanic','Bahubali','Anabella']\n",
    "print(len(movies))"
   ]
  },
  {
   "attachments": {},
   "cell_type": "markdown",
   "metadata": {},
   "source": [
    "For loop"
   ]
  },
  {
   "cell_type": "code",
   "execution_count": 4,
   "metadata": {},
   "outputs": [
    {
     "name": "stdout",
     "output_type": "stream",
     "text": [
      "Pihu\n",
      "Harry Potter\n",
      "Kerala story\n",
      "Wednesday\n",
      "Dark Knight\n",
      "Pathan\n",
      "Fast Five\n",
      "Titanic\n",
      "Bahubali\n",
      "Anabella\n"
     ]
    }
   ],
   "source": [
    "for title in movies:\n",
    "    print(title)"
   ]
  },
  {
   "cell_type": "code",
   "execution_count": 7,
   "metadata": {},
   "outputs": [
    {
     "name": "stdout",
     "output_type": "stream",
     "text": [
      "Pihu                 4 chars\n",
      "Harry Potter         12 chars\n",
      "Kerala story         12 chars\n",
      "Wednesday            9 chars\n",
      "Dark Knight          11 chars\n",
      "Pathan               6 chars\n",
      "Fast Five            9 chars\n",
      "Titanic              7 chars\n",
      "Bahubali             8 chars\n",
      "Anabella             8 chars\n"
     ]
    }
   ],
   "source": [
    "for title in movies:\n",
    "    print(f'{title:20} {len(title)} chars')"
   ]
  },
  {
   "cell_type": "code",
   "execution_count": 11,
   "metadata": {},
   "outputs": [
    {
     "name": "stdout",
     "output_type": "stream",
     "text": [
      "Harry Potter\n",
      "Kerala story\n",
      "Wednesday\n",
      "Dark Knight\n",
      "Pathan\n",
      "Fast Five\n",
      "Titanic\n",
      "Bahubali\n",
      "Anabella\n"
     ]
    }
   ],
   "source": [
    "for title in movies:\n",
    "    if('a' in title):\n",
    "        print(title)"
   ]
  },
  {
   "cell_type": "code",
   "execution_count": 13,
   "metadata": {},
   "outputs": [
    {
     "name": "stdout",
     "output_type": "stream",
     "text": [
      "Harry Potter\n",
      "Kerala story\n",
      "Wednesday\n",
      "Dark Knight\n",
      "Pathan\n",
      "Fast Five\n",
      "Titanic\n",
      "Bahubali\n",
      "Anabella\n"
     ]
    }
   ],
   "source": [
    "for title in movies:\n",
    "    if('a' in title or 'e' in title):\n",
    "        print(title)"
   ]
  },
  {
   "attachments": {},
   "cell_type": "markdown",
   "metadata": {},
   "source": [
    "Nested loops"
   ]
  },
  {
   "cell_type": "code",
   "execution_count": 15,
   "metadata": {},
   "outputs": [
    {
     "name": "stdout",
     "output_type": "stream",
     "text": [
      "10\n"
     ]
    }
   ],
   "source": [
    "books = [\n",
    "    ['The India Story','Bimal Jalal',10],\n",
    "    ['A place called home','Preeti shenoy',9],\n",
    "    ['Lal salam','Smriti Irani',8],\n",
    "    ['Queen of fire','Devika Rangachari',10],\n",
    "    ['The maverick effect','Harish Mehta',10],\n",
    "    ['Monsoon','Sahitya Akademi',9],\n",
    "    ['Tomb sand','Geetenjali shree',10],\n",
    "    ['Fearless Governance','Dr.Kiran bedi',9],\n",
    "    ['A nation to protect','Priyam Gandhi',9],\n",
    "    ['Unfinished','Priyanka chopra Jonas',10],\n",
    "]\n",
    "print(len(books))"
   ]
  },
  {
   "cell_type": "code",
   "execution_count": 17,
   "metadata": {},
   "outputs": [
    {
     "name": "stdout",
     "output_type": "stream",
     "text": [
      "The India Story\n",
      "Bimal Jalal\n",
      "10\n",
      "\n",
      "A place called home\n",
      "Preeti shenoy\n",
      "9\n",
      "\n",
      "Lal salam\n",
      "Smriti Irani\n",
      "8\n",
      "\n",
      "Queen of fire\n",
      "Devika Rangachari\n",
      "10\n",
      "\n",
      "The maverick effect\n",
      "Harish Mehta\n",
      "10\n",
      "\n",
      "Monsoon\n",
      "Sahitya Akademi\n",
      "9\n",
      "\n",
      "Tomb sand\n",
      "Geetenjali shree\n",
      "10\n",
      "\n",
      "Fearless Governance\n",
      "Dr.Kiran bedi\n",
      "9\n",
      "\n",
      "A nation to protect\n",
      "Priyam Gandhi\n",
      "9\n",
      "\n",
      "Unfinished\n",
      "Priyanka chopra Jonas\n",
      "10\n",
      "\n"
     ]
    }
   ],
   "source": [
    "for book in books:\n",
    "    for field in book:\n",
    "        print(field)\n",
    "    print()"
   ]
  },
  {
   "cell_type": "code",
   "execution_count": 18,
   "metadata": {},
   "outputs": [
    {
     "name": "stdout",
     "output_type": "stream",
     "text": [
      "title: The India Story\n",
      "author: Bimal Jalal\n",
      "rating: 10\n",
      "\n",
      "title: A place called home\n",
      "author: Preeti shenoy\n",
      "rating: 9\n",
      "\n",
      "title: Lal salam\n",
      "author: Smriti Irani\n",
      "rating: 8\n",
      "\n",
      "title: Queen of fire\n",
      "author: Devika Rangachari\n",
      "rating: 10\n",
      "\n",
      "title: The maverick effect\n",
      "author: Harish Mehta\n",
      "rating: 10\n",
      "\n",
      "title: Monsoon\n",
      "author: Sahitya Akademi\n",
      "rating: 9\n",
      "\n",
      "title: Tomb sand\n",
      "author: Geetenjali shree\n",
      "rating: 10\n",
      "\n",
      "title: Fearless Governance\n",
      "author: Dr.Kiran bedi\n",
      "rating: 9\n",
      "\n",
      "title: A nation to protect\n",
      "author: Priyam Gandhi\n",
      "rating: 9\n",
      "\n",
      "title: Unfinished\n",
      "author: Priyanka chopra Jonas\n",
      "rating: 10\n",
      "\n"
     ]
    }
   ],
   "source": [
    "for book in books:\n",
    "    print(f'title: {book[0]}')\n",
    "    print(f'author: {book[1]}')\n",
    "    print(f'rating: {book[2]}')\n",
    "    print()"
   ]
  },
  {
   "cell_type": "code",
   "execution_count": 19,
   "metadata": {},
   "outputs": [
    {
     "name": "stdout",
     "output_type": "stream",
     "text": [
      "title: The India Story\n",
      "title: A place called home\n",
      "title: Lal salam\n",
      "title: Queen of fire\n",
      "title: The maverick effect\n",
      "title: Monsoon\n",
      "title: Tomb sand\n",
      "title: Fearless Governance\n",
      "title: A nation to protect\n",
      "title: Unfinished\n"
     ]
    }
   ],
   "source": [
    "for book in books:\n",
    "    print(f'title: {book[0]}')\n",
    "    "
   ]
  },
  {
   "cell_type": "code",
   "execution_count": null,
   "metadata": {},
   "outputs": [],
   "source": []
  }
 ],
 "metadata": {
  "kernelspec": {
   "display_name": "base",
   "language": "python",
   "name": "python3"
  },
  "language_info": {
   "codemirror_mode": {
    "name": "ipython",
    "version": 3
   },
   "file_extension": ".py",
   "mimetype": "text/x-python",
   "name": "python",
   "nbconvert_exporter": "python",
   "pygments_lexer": "ipython3",
   "version": "3.10.10"
  },
  "orig_nbformat": 4
 },
 "nbformat": 4,
 "nbformat_minor": 2
}
