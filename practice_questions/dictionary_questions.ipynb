{
 "cells": [
  {
   "cell_type": "code",
   "execution_count": 4,
   "metadata": {},
   "outputs": [
    {
     "name": "stdout",
     "output_type": "stream",
     "text": [
      "\"h\" appears \"1\" time(s) in the word hello\n",
      "\"e\" appears \"1\" time(s) in the word hello\n",
      "\"l\" appears \"2\" time(s) in the word hello\n",
      "\"o\" appears \"1\" time(s) in the word hello\n"
     ]
    }
   ],
   "source": [
    "#1 Write a program to count the frequency of each character in a given string using a dictionary.\n",
    "\n",
    "str = \"hello\"\n",
    "char_frequency = {}\n",
    "for char in str:\n",
    "    if char in char_frequency:\n",
    "        char_frequency[char] += 1\n",
    "    else:\n",
    "        char_frequency[char] = 1\n",
    "for char,frequency in char_frequency.items():\n",
    "    print(f'\"{char}\" appears \"{frequency}\" time(s) in the word hello')"
   ]
  },
  {
   "cell_type": "code",
   "execution_count": 6,
   "metadata": {},
   "outputs": [
    {
     "name": "stdout",
     "output_type": "stream",
     "text": [
      "{'a': 1, 'b': 2, 'c': 3, 'd': 4}\n"
     ]
    }
   ],
   "source": [
    "#2 Write a program to merge two dictionaries into a single dictionary.\n",
    "\n",
    "dict1 = {\"a\": 1, \"b\": 2}\n",
    "dict2 = {\"c\": 3, \"d\": 4}\n",
    "dict3 = dict1.copy()\n",
    "dict3.update(dict2)\n",
    "print(dict3)"
   ]
  },
  {
   "cell_type": "code",
   "execution_count": 2,
   "metadata": {},
   "outputs": [
    {
     "name": "stdout",
     "output_type": "stream",
     "text": [
      "Keys with maximum value: ['a']\n"
     ]
    }
   ],
   "source": [
    "#3 Write a program to find the keys with the maximum value in a dictionary.\n",
    "\n",
    "dct = {\"a\": 10, \"b\": 5, \"c\": 6}\n",
    "max_value = max(dct.values())\n",
    "max_keys = [key for key, value in dct.items() if value == max_value]\n",
    "print(\"Keys with maximum value:\", max_keys)"
   ]
  },
  {
   "cell_type": "code",
   "execution_count": null,
   "metadata": {},
   "outputs": [],
   "source": []
  }
 ],
 "metadata": {
  "kernelspec": {
   "display_name": "base",
   "language": "python",
   "name": "python3"
  },
  "language_info": {
   "codemirror_mode": {
    "name": "ipython",
    "version": 3
   },
   "file_extension": ".py",
   "mimetype": "text/x-python",
   "name": "python",
   "nbconvert_exporter": "python",
   "pygments_lexer": "ipython3",
   "version": "3.10.10"
  },
  "orig_nbformat": 4
 },
 "nbformat": 4,
 "nbformat_minor": 2
}
