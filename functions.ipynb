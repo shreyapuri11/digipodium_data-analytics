{
 "cells": [
  {
   "attachments": {},
   "cell_type": "markdown",
   "metadata": {},
   "source": [
    "# Functions\n",
    " - Reuse of the code\n",
    " - make the code more readable\n",
    " - break the complex code into smaller codes\n",
    " - customization"
   ]
  },
  {
   "attachments": {},
   "cell_type": "markdown",
   "metadata": {},
   "source": [
    "# programming functions\n",
    "- **predefined functions**\n",
    "  - *standard library functions*\n",
    "     - the functions that are imported by default when executing python code\n",
    "  - *library(modules) functions*\n",
    "      - *pre-installed modules*\n",
    "          - os\n",
    "          - math\n",
    "          - random\n",
    "          - datetime\n",
    "      - *3rd party modules*\n",
    "        - install with pip\n",
    "           - 'pip install <package-name>'\n",
    "           - 'pip show <package-name>'\n",
    "        - install with conda\n",
    "           - 'conda install <repo> <package-name>'\n",
    "- **user defined functions**\n",
    " - function with name\n",
    "    1. functions without parameters and return value (no input and output)\n",
    "    2. functions with parameters ()\n",
    "       - required parameters\n",
    "       - default parameters\n",
    "       - named parameters\n",
    "       - variable arguments\n",
    "       - variable keyword arguments\n",
    "    3. function with return value\n",
    "    4. function with both parameters and return value\n",
    "    5. generators\n",
    "  - functions without name\n",
    "   - *Lambda functions* (anonymous functions)\n"
   ]
  },
  {
   "cell_type": "code",
   "execution_count": 3,
   "metadata": {},
   "outputs": [],
   "source": [
    "import math \n"
   ]
  },
  {
   "cell_type": "code",
   "execution_count": 4,
   "metadata": {},
   "outputs": [
    {
     "name": "stdout",
     "output_type": "stream",
     "text": [
      "\u001b[1;31mSignature:\u001b[0m \u001b[0mmath\u001b[0m\u001b[1;33m.\u001b[0m\u001b[0mfactorial\u001b[0m\u001b[1;33m(\u001b[0m\u001b[0mx\u001b[0m\u001b[1;33m,\u001b[0m \u001b[1;33m/\u001b[0m\u001b[1;33m)\u001b[0m\u001b[1;33m\u001b[0m\u001b[1;33m\u001b[0m\u001b[0m\n",
      "\u001b[1;31mDocstring:\u001b[0m\n",
      "Find x!.\n",
      "\n",
      "Raise a ValueError if x is negative or non-integral.\n",
      "\u001b[1;31mType:\u001b[0m      builtin_function_or_method"
     ]
    }
   ],
   "source": [
    "#used for documnetation of a function....\n",
    "math.factorial? "
   ]
  },
  {
   "cell_type": "code",
   "execution_count": 9,
   "metadata": {},
   "outputs": [
    {
     "name": "stdout",
     "output_type": "stream",
     "text": [
      "Simple Interest is  100.00\n"
     ]
    }
   ],
   "source": [
    "# simple interest\n",
    "#required parameters\n",
    "def si(p,r,t):\n",
    "    '''A function to calculate simple interest''' #documentation\n",
    "    ans = p*r*t/100\n",
    "    print(f'Simple Interest is {ans: .2f}')\n",
    "\n",
    "si(1000,5,2) #function calling"
   ]
  },
  {
   "cell_type": "code",
   "execution_count": 10,
   "metadata": {},
   "outputs": [
    {
     "name": "stdout",
     "output_type": "stream",
     "text": [
      "\u001b[1;31mSignature:\u001b[0m \u001b[0msi\u001b[0m\u001b[1;33m(\u001b[0m\u001b[0mp\u001b[0m\u001b[1;33m,\u001b[0m \u001b[0mr\u001b[0m\u001b[1;33m,\u001b[0m \u001b[0mt\u001b[0m\u001b[1;33m)\u001b[0m\u001b[1;33m\u001b[0m\u001b[1;33m\u001b[0m\u001b[0m\n",
      "\u001b[1;31mDocstring:\u001b[0m A function to calculate simple interest\n",
      "\u001b[1;31mFile:\u001b[0m      c:\\users\\hp\\appdata\\local\\temp\\ipykernel_32396\\3747288468.py\n",
      "\u001b[1;31mType:\u001b[0m      function"
     ]
    }
   ],
   "source": [
    "si? # to know about the function\n"
   ]
  },
  {
   "cell_type": "code",
   "execution_count": 12,
   "metadata": {},
   "outputs": [
    {
     "name": "stdout",
     "output_type": "stream",
     "text": [
      "8 is not a prime number\n"
     ]
    }
   ],
   "source": [
    "#prime number\n",
    "def prime_number(n):\n",
    "    i = 2\n",
    "    count = 0\n",
    "    while i <= n/2:\n",
    "        if n%i == 0:\n",
    "            count += 1\n",
    "            break\n",
    "        i += 1\n",
    "    if (count == 0):\n",
    "        print(f'{n} is a prime number')\n",
    "    else: \n",
    "        print(f'{n} is not a prime number')\n",
    "\n",
    "prime_number(8)"
   ]
  },
  {
   "cell_type": "code",
   "execution_count": 17,
   "metadata": {},
   "outputs": [
    {
     "name": "stdout",
     "output_type": "stream",
     "text": [
      "13.0\n",
      "12.041594578792296\n",
      "1.4142135623730951\n",
      "11.180339887498949\n",
      "17.69180601295413\n",
      "13.0\n"
     ]
    },
    {
     "name": "stdout",
     "output_type": "stream",
     "text": [
      "13.0\n",
      "13.0\n",
      "13.0\n",
      "13.0\n"
     ]
    }
   ],
   "source": [
    "def hypotenuse(p=1,b=1): #default parameters are always written from right to left\n",
    "    h = (p**2 + b**2) ** 0.5\n",
    "    print(h)\n",
    "hypotenuse(12,5)\n",
    "hypotenuse(12)\n",
    "hypotenuse()\n",
    "hypotenuse(p =10, b=5) #named arguments or keyword arguments\n",
    "hypotenuse(b=13, p=12)\n",
    "hypotenuse(12, b=5) #positional arguments\n",
    "#hypotenuse(12, b=5) #postional arguments followed the named arguments\n",
    "\n",
    "a = int(input('perp:'))\n",
    "y = int(input('base:'))\n",
    "hypotenuse(a,y)\n",
    "hypotenuse(p=a,b=y)\n",
    "hypotenuse(a, b=y)\n",
    "hypotenuse(b=y, p=a)\n",
    "\n"
   ]
  },
  {
   "cell_type": "code",
   "execution_count": 22,
   "metadata": {},
   "outputs": [
    {
     "name": "stdout",
     "output_type": "stream",
     "text": [
      "1\n",
      "2\n",
      "24\n",
      "40320\n"
     ]
    }
   ],
   "source": [
    "#variable arguments used in libraries and projects\n",
    "\n",
    "def multiplier(*num):\n",
    "    ans = 1\n",
    "    for i in num:\n",
    "        ans *= i\n",
    "    print(ans)\n",
    "multiplier()\n",
    "multiplier(2)\n",
    "multiplier(2,3,4)\n",
    "multiplier(2,3,4,5,6,7,8)"
   ]
  },
  {
   "cell_type": "code",
   "execution_count": 21,
   "metadata": {},
   "outputs": [
    {
     "name": "stdout",
     "output_type": "stream",
     "text": [
      "60\n",
      "6000\n",
      "20.0\n",
      "Invalid operator\n"
     ]
    }
   ],
   "source": [
    "def agg(*num, operator=\"add\"):\n",
    "    if operator == 'add':\n",
    "        ans = 0\n",
    "        for i in num:\n",
    "            ans += i\n",
    "        print(ans)\n",
    "    elif operator == 'mul':\n",
    "        ans = 1\n",
    "        for i in num:\n",
    "            ans *= i\n",
    "        print(ans)\n",
    "    elif operator == 'mean':\n",
    "        ans = 0\n",
    "        for i in num:\n",
    "            ans += i\n",
    "        print(ans/len(num))\n",
    "    else:\n",
    "        print(\"Invalid operator\")\n",
    "\n",
    "\n",
    "agg(10,20,30)\n",
    "agg(10,20,30, operator ='mul')\n",
    "agg(10,20,30, operator='mean')\n",
    "agg(10,20,30, operator='sheen')"
   ]
  },
  {
   "cell_type": "code",
   "execution_count": null,
   "metadata": {},
   "outputs": [],
   "source": []
  }
 ],
 "metadata": {
  "kernelspec": {
   "display_name": "base",
   "language": "python",
   "name": "python3"
  },
  "language_info": {
   "codemirror_mode": {
    "name": "ipython",
    "version": 3
   },
   "file_extension": ".py",
   "mimetype": "text/x-python",
   "name": "python",
   "nbconvert_exporter": "python",
   "pygments_lexer": "ipython3",
   "version": "3.10.10"
  },
  "orig_nbformat": 4
 },
 "nbformat": 4,
 "nbformat_minor": 2
}
