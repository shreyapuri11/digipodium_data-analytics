{
 "cells": [
  {
   "attachments": {},
   "cell_type": "markdown",
   "metadata": {},
   "source": [
    "# Functions\n",
    " - Reuse of the code\n",
    " - make the code more readable\n",
    " - break the complex code into smaller codes\n",
    " - customization"
   ]
  },
  {
   "attachments": {},
   "cell_type": "markdown",
   "metadata": {},
   "source": [
    "# programming functions\n",
    "- **predefined functions**\n",
    "  - *standard library functions*\n",
    "     - the functions that are imported by default when executing python code\n",
    "  - *library(modules) functions*\n",
    "      - *pre-installed modules*\n",
    "          - os\n",
    "          - math\n",
    "          - random\n",
    "          - datetime\n",
    "      - *3rd party modules*\n",
    "        - install with pip\n",
    "           - 'pip install <package-name>'\n",
    "           - 'pip show <package-name>'\n",
    "        - install with conda\n",
    "           - 'conda install <repo> <package-name>'\n",
    "- **user defined functions**\n",
    " - function with name\n",
    "    1. functions without parameters and return value (no input and output)\n",
    "    2. functions with parameters ()\n",
    "       - required parameters\n",
    "       - default parameters\n",
    "       - named parameters\n",
    "       - variable arguments\n",
    "       - keyword variable arguments\n",
    "    3. function with return value\n",
    "    4. function with both parameters and return value\n",
    "    5. generators\n",
    "  - functions without name\n",
    "   - *Lambda functions* (anonymous functions)\n"
   ]
  },
  {
   "cell_type": "code",
   "execution_count": 3,
   "metadata": {},
   "outputs": [],
   "source": [
    "import math \n"
   ]
  },
  {
   "cell_type": "code",
   "execution_count": 4,
   "metadata": {},
   "outputs": [
    {
     "name": "stdout",
     "output_type": "stream",
     "text": [
      "\u001b[1;31mSignature:\u001b[0m \u001b[0mmath\u001b[0m\u001b[1;33m.\u001b[0m\u001b[0mfactorial\u001b[0m\u001b[1;33m(\u001b[0m\u001b[0mx\u001b[0m\u001b[1;33m,\u001b[0m \u001b[1;33m/\u001b[0m\u001b[1;33m)\u001b[0m\u001b[1;33m\u001b[0m\u001b[1;33m\u001b[0m\u001b[0m\n",
      "\u001b[1;31mDocstring:\u001b[0m\n",
      "Find x!.\n",
      "\n",
      "Raise a ValueError if x is negative or non-integral.\n",
      "\u001b[1;31mType:\u001b[0m      builtin_function_or_method"
     ]
    }
   ],
   "source": [
    "#used for documnetation of a function....\n",
    "math.factorial? "
   ]
  },
  {
   "cell_type": "code",
   "execution_count": 9,
   "metadata": {},
   "outputs": [
    {
     "name": "stdout",
     "output_type": "stream",
     "text": [
      "Simple Interest is  100.00\n"
     ]
    }
   ],
   "source": [
    "# simple interest\n",
    "def si(p,r,t):\n",
    "    '''A function to calculate simple interest''' #documentation\n",
    "    ans = p*r*t/100\n",
    "    print(f'Simple Interest is {ans: .2f}')\n",
    "\n",
    "si(1000,5,2) #function calling"
   ]
  },
  {
   "cell_type": "code",
   "execution_count": 10,
   "metadata": {},
   "outputs": [
    {
     "name": "stdout",
     "output_type": "stream",
     "text": [
      "\u001b[1;31mSignature:\u001b[0m \u001b[0msi\u001b[0m\u001b[1;33m(\u001b[0m\u001b[0mp\u001b[0m\u001b[1;33m,\u001b[0m \u001b[0mr\u001b[0m\u001b[1;33m,\u001b[0m \u001b[0mt\u001b[0m\u001b[1;33m)\u001b[0m\u001b[1;33m\u001b[0m\u001b[1;33m\u001b[0m\u001b[0m\n",
      "\u001b[1;31mDocstring:\u001b[0m A function to calculate simple interest\n",
      "\u001b[1;31mFile:\u001b[0m      c:\\users\\hp\\appdata\\local\\temp\\ipykernel_32396\\3747288468.py\n",
      "\u001b[1;31mType:\u001b[0m      function"
     ]
    }
   ],
   "source": [
    "si? # to know about the function\n"
   ]
  },
  {
   "cell_type": "code",
   "execution_count": 11,
   "metadata": {},
   "outputs": [
    {
     "name": "stdout",
     "output_type": "stream",
     "text": [
      "7 is a prime number\n"
     ]
    }
   ],
   "source": [
    "#prime number\n",
    "def prime_number(n):\n",
    "    i = 2\n",
    "    count = 0\n",
    "    while i <= n/2:\n",
    "        if n%i == 0:\n",
    "            count += 1\n",
    "            break\n",
    "        i += 1\n",
    "    if (count == 0):\n",
    "        print(f'{n} is a prime number')\n",
    "    else: \n",
    "        print(f'{n} is not a prime number')\n",
    "\n",
    "prime_number(7)"
   ]
  },
  {
   "cell_type": "code",
   "execution_count": null,
   "metadata": {},
   "outputs": [],
   "source": []
  }
 ],
 "metadata": {
  "kernelspec": {
   "display_name": "base",
   "language": "python",
   "name": "python3"
  },
  "language_info": {
   "codemirror_mode": {
    "name": "ipython",
    "version": 3
   },
   "file_extension": ".py",
   "mimetype": "text/x-python",
   "name": "python",
   "nbconvert_exporter": "python",
   "pygments_lexer": "ipython3",
   "version": "3.10.10"
  },
  "orig_nbformat": 4
 },
 "nbformat": 4,
 "nbformat_minor": 2
}
