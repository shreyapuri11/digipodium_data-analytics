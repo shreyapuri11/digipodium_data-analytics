{
 "cells": [
  {
   "cell_type": "code",
   "execution_count": 1,
   "metadata": {},
   "outputs": [
    {
     "data": {
      "text/plain": [
       "False"
      ]
     },
     "execution_count": 1,
     "metadata": {},
     "output_type": "execute_result"
    }
   ],
   "source": [
    "x = \"5\" #1\n",
    "y = 5\n",
    "x == y"
   ]
  },
  {
   "cell_type": "code",
   "execution_count": 3,
   "metadata": {},
   "outputs": [
    {
     "name": "stdout",
     "output_type": "stream",
     "text": [
      "we have 3 fruits\n"
     ]
    }
   ],
   "source": [
    "fruits = ['banana','apple','pear'] #2\n",
    "if fruits:\n",
    "    print(f\"we have {len(fruits)} fruits\")"
   ]
  },
  {
   "cell_type": "code",
   "execution_count": 4,
   "metadata": {},
   "outputs": [
    {
     "data": {
      "text/plain": [
       "['banana', 'pear', 'apple']"
      ]
     },
     "execution_count": 4,
     "metadata": {},
     "output_type": "execute_result"
    }
   ],
   "source": [
    "fruitstring = \"banana,pear,apple\" #3\n",
    "fruitlist = fruitstring.split(',')\n",
    "fruitlist"
   ]
  },
  {
   "cell_type": "code",
   "execution_count": 5,
   "metadata": {},
   "outputs": [
    {
     "name": "stdout",
     "output_type": "stream",
     "text": [
      "['A', 'computer', 'would', 'deserve', 'to', 'be', 'called', 'intelligent', 'if', 'it', 'could', 'deceive', 'a', 'human', 'into', 'believing', 'that', 'it', 'was', 'human']\n"
     ]
    }
   ],
   "source": [
    "quotestring = \"A computer would deserve to be called intelligent if it could deceive a human into believing that it was human\" #4\n",
    "quotelist = quotestring.split(' ')\n",
    "print(quotelist)\n",
    "\n"
   ]
  },
  {
   "cell_type": "code",
   "execution_count": 7,
   "metadata": {},
   "outputs": [
    {
     "name": "stdout",
     "output_type": "stream",
     "text": [
      "True\n"
     ]
    }
   ],
   "source": [
    "numberoftwoletterwords = 0 #5\n",
    "for word in quotelist:\n",
    "    if len(word) == 2:\n",
    "        numberoftwoletterwords += 1\n",
    "print(numberoftwoletterwords == 5)"
   ]
  },
  {
   "cell_type": "code",
   "execution_count": 9,
   "metadata": {},
   "outputs": [
    {
     "name": "stdout",
     "output_type": "stream",
     "text": [
      "banana,pear,apple\n"
     ]
    }
   ],
   "source": [
    "fruitlist = ['banana','pear','apple'] #6\n",
    "delimiter = \",\"\n",
    "fruitstring = delimiter.join(fruitlist)\n",
    "print(fruitstring)\n"
   ]
  },
  {
   "cell_type": "code",
   "execution_count": 10,
   "metadata": {},
   "outputs": [
    {
     "name": "stdout",
     "output_type": "stream",
     "text": [
      "Security found at position 32\n"
     ]
    }
   ],
   "source": [
    "text = \"We spend our time searching for security and hate it when we get it\" #7\n",
    "found = text.find('security')\n",
    "if found == -1:\n",
    "    print(\"No security found! :(\")\n",
    "else:\n",
    "    print(\"Security found at position \" + str(found))"
   ]
  },
  {
   "cell_type": "code",
   "execution_count": 11,
   "metadata": {},
   "outputs": [
    {
     "name": "stdout",
     "output_type": "stream",
     "text": [
      "You can  compare apples and apples\n"
     ]
    }
   ],
   "source": [
    "text = \"You can not compare apples and pears\" #8\n",
    "text = text.replace(\"pears\", \"apples\")\n",
    "text = text.replace(\"not\", \"\")\n",
    "print(text)"
   ]
  },
  {
   "cell_type": "code",
   "execution_count": 12,
   "metadata": {},
   "outputs": [
    {
     "name": "stdout",
     "output_type": "stream",
     "text": [
      "Rsrch hs shwn tht t s ftn stll pssbl t ndrstnd txt vn f ll vwls r rmvd\n"
     ]
    }
   ],
   "source": [
    "text = \"Research has shown that it is often still possible to understand text even if all vowels are removed\" #9\n",
    "for vowel in (\"a\",\"i\",\"e\",\"o\",\"u\"):\n",
    "    text = text.replace(vowel,\"\")\n",
    "print(text)"
   ]
  },
  {
   "cell_type": "code",
   "execution_count": 13,
   "metadata": {},
   "outputs": [
    {
     "name": "stdout",
     "output_type": "stream",
     "text": [
      "strip me!\n"
     ]
    }
   ],
   "source": [
    "s = \" strip me! \" #10\n",
    "print(s.strip())\n"
   ]
  },
  {
   "cell_type": "code",
   "execution_count": 14,
   "metadata": {},
   "outputs": [
    {
     "name": "stdout",
     "output_type": "stream",
     "text": [
      "folgert karsdorp and maarten van gompel\n",
      "FOLGERT KARSDORP AND MAARTEN VAN GOMPEL\n"
     ]
    }
   ],
   "source": [
    "teachers = \"Folgert Karsdorp and Maarten van Gompel\" #11\n",
    "print(teachers.lower())\n",
    "print(teachers.upper())\n"
   ]
  },
  {
   "cell_type": "code",
   "execution_count": 15,
   "metadata": {},
   "outputs": [
    {
     "name": "stdout",
     "output_type": "stream",
     "text": [
      "5\n"
     ]
    }
   ],
   "source": [
    "words = [\"BlA\", \"plop\", \"blA\", \"Bla\", \"PLoP\", \"bLa\", \"pLop\", \"BLA\"] #12\n",
    "count = 0\n",
    "for word in words:\n",
    "    if word.lower() == \"bla\":\n",
    "        count += 1\n",
    "print(count)\n"
   ]
  },
  {
   "cell_type": "code",
   "execution_count": 16,
   "metadata": {},
   "outputs": [
    {
     "name": "stdout",
     "output_type": "stream",
     "text": [
      "banana\n"
     ]
    }
   ],
   "source": [
    "fruittuple = ('banana','apple','pear') #13\n",
    "print(fruittuple[0])"
   ]
  },
  {
   "cell_type": "code",
   "execution_count": 17,
   "metadata": {},
   "outputs": [
    {
     "name": "stdout",
     "output_type": "stream",
     "text": [
      "4\n"
     ]
    }
   ],
   "source": [
    "fruitset = {'banana', 'apple', 'pear'} #14\n",
    "fruitset.add('banana')\n",
    "fruitset.add('orange')\n",
    "print(len(fruitset))\n"
   ]
  },
  {
   "cell_type": "code",
   "execution_count": 18,
   "metadata": {},
   "outputs": [
    {
     "name": "stdout",
     "output_type": "stream",
     "text": [
      "1\n",
      "5\n",
      "15\n"
     ]
    }
   ],
   "source": [
    "numbers = [1, 2, 3, 4, 5] #15\n",
    "print(min(numbers))\n",
    "print(max(numbers))\n",
    "print(sum(numbers))"
   ]
  },
  {
   "cell_type": "code",
   "execution_count": 19,
   "metadata": {},
   "outputs": [
    {
     "name": "stdout",
     "output_type": "stream",
     "text": [
      "[2, 4, 6, 8, 10]\n"
     ]
    }
   ],
   "source": [
    "numbers = [1, 2, 3, 4, 5 ] #16\n",
    "doublenumbers = [number*2 for number in numbers]\n",
    "print(doublenumbers)\n"
   ]
  },
  {
   "cell_type": "code",
   "execution_count": 20,
   "metadata": {},
   "outputs": [
    {
     "name": "stdout",
     "output_type": "stream",
     "text": [
      "[3, 4, 5, 6, 7]\n"
     ]
    }
   ],
   "source": [
    "numbers = [1, 2, 3, 4, 5] #17\n",
    "numbers = [ x + 2 for x in numbers]\n",
    "print(numbers)\n"
   ]
  },
  {
   "cell_type": "code",
   "execution_count": 21,
   "metadata": {},
   "outputs": [
    {
     "name": "stdout",
     "output_type": "stream",
     "text": [
      "42\n"
     ]
    }
   ],
   "source": [
    "import random #18\n",
    "number = 0\n",
    "while number != 42:\n",
    "    number = random.randint(0, 100)\n",
    "print(number)\n"
   ]
  },
  {
   "cell_type": "code",
   "execution_count": 27,
   "metadata": {},
   "outputs": [
    {
     "name": "stdout",
     "output_type": "stream",
     "text": [
      "Hello world!\n"
     ]
    }
   ],
   "source": [
    "f = open('file.txt') #19\n",
    "text = f.read()\n",
    "f.close()\n",
    "print(text)\n"
   ]
  },
  {
   "cell_type": "code",
   "execution_count": 26,
   "metadata": {},
   "outputs": [],
   "source": [
    "f = open('file.txt','w') #20\n",
    "f.write(\"Hello world!\")\n",
    "f.close()"
   ]
  },
  {
   "cell_type": "code",
   "execution_count": null,
   "metadata": {},
   "outputs": [],
   "source": []
  }
 ],
 "metadata": {
  "kernelspec": {
   "display_name": "base",
   "language": "python",
   "name": "python3"
  },
  "language_info": {
   "codemirror_mode": {
    "name": "ipython",
    "version": 3
   },
   "file_extension": ".py",
   "mimetype": "text/x-python",
   "name": "python",
   "nbconvert_exporter": "python",
   "pygments_lexer": "ipython3",
   "version": "3.10.10"
  },
  "orig_nbformat": 4
 },
 "nbformat": 4,
 "nbformat_minor": 2
}
